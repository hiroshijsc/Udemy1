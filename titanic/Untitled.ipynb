{
 "cells": [
  {
   "cell_type": "code",
   "execution_count": 1,
   "metadata": {},
   "outputs": [],
   "source": [
    "import numpy as np\n",
    "import pandas as pd\n",
    "import matplotlib.pyplot as plt\n",
    "\n",
    "train = pd.read_csv('train.csv')\n",
    "test = pd.read_csv('test.csv')"
   ]
  },
  {
   "cell_type": "code",
   "execution_count": 2,
   "metadata": {},
   "outputs": [],
   "source": [
    "y_train = train.iloc[:,1] #正解ラベルの用意\n",
    "train = train.drop('Survived',axis=1)\n",
    "df = pd.concat([train,test])"
   ]
  },
  {
   "cell_type": "code",
   "execution_count": 3,
   "metadata": {},
   "outputs": [
    {
     "data": {
      "text/plain": [
       "S    914\n",
       "C    270\n",
       "Q    123\n",
       "Name: Embarked, dtype: int64"
      ]
     },
     "execution_count": 3,
     "metadata": {},
     "output_type": "execute_result"
    }
   ],
   "source": [
    "df = df.drop('Ticket',axis=1).drop('Cabin',axis=1)\n",
    "df[\"Embarked\"].value_counts()"
   ]
  },
  {
   "cell_type": "code",
   "execution_count": 4,
   "metadata": {},
   "outputs": [],
   "source": [
    "df[\"Embarked\"].fillna(\"S\",inplace=True)\n",
    "df[\"Fare\"].fillna(df.Fare.mean(), inplace=True)"
   ]
  },
  {
   "cell_type": "code",
   "execution_count": 5,
   "metadata": {},
   "outputs": [],
   "source": [
    "df['FamilySize'] = df['SibSp'] + df['Parch'] + 1\n",
    "df=df.drop('SibSp',axis=1).drop('Parch',axis=1)"
   ]
  },
  {
   "cell_type": "code",
   "execution_count": 6,
   "metadata": {},
   "outputs": [],
   "source": [
    "sex_dum = pd.get_dummies(df['Sex'])\n",
    "#データの連結をする\n",
    "df = pd.concat((df,sex_dum),axis=1)\n",
    "#データからsexの列を取り除く\n",
    "df = df.drop('Sex',axis=1)\n",
    "#性別は男か女かのみなので男なら1というデータのみあればよい\n",
    "df = df.drop('female',axis=1)\n",
    "\n",
    "#乗船場所でも同様\n",
    "emb_dum = pd.get_dummies(df['Embarked'])\n",
    "df = pd.concat((df,emb_dum),axis=1)\n",
    "df = df.drop('Embarked',axis=1)\n",
    "df = df.drop('S',axis=1)"
   ]
  },
  {
   "cell_type": "code",
   "execution_count": null,
   "metadata": {},
   "outputs": [],
   "source": [
    "def name_classifier(df,name_df):    \n",
    "    miss = np.array([])\n",
    "    mrs = np.array([])\n",
    "    master = np.array([])\n",
    "    mr = np.array([])\n",
    "    for name in name_df:        \n",
    "        if 'Miss' in name:\n",
    "            miss = np.append(miss, name)\n",
    "        elif 'Mrs' in name:\n",
    "            miss = np.append(mrs, name)\n",
    "        elif 'Master' in name:\n",
    "            miss = np.append(master, name)\n",
    "        elif 'Mr' in name:\n",
    "            miss = np.append(mr, name)"
   ]
  },
  {
   "cell_type": "code",
   "execution_count": null,
   "metadata": {},
   "outputs": [],
   "source": []
  }
 ],
 "metadata": {
  "kernelspec": {
   "display_name": "Python 3",
   "language": "python",
   "name": "python3"
  },
  "language_info": {
   "codemirror_mode": {
    "name": "ipython",
    "version": 3
   },
   "file_extension": ".py",
   "mimetype": "text/x-python",
   "name": "python",
   "nbconvert_exporter": "python",
   "pygments_lexer": "ipython3",
   "version": "3.7.0"
  }
 },
 "nbformat": 4,
 "nbformat_minor": 2
}
