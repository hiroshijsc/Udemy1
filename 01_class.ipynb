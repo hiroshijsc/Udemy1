{
 "cells": [
  {
   "cell_type": "code",
   "execution_count": 75,
   "metadata": {},
   "outputs": [],
   "source": [
    "class Person:\n",
    "    #初期設定\n",
    "    def __init__(self, name, nationality, age):\n",
    "        self.name = name\n",
    "        self.nationality = nationality\n",
    "        self.age = age\n",
    "    \n",
    "    def __call__(self, name):\n",
    "        print(\"こんにちは{}。{}です。\".format(name, self.name))\n",
    "        \n",
    "    def say_hello(self, name):\n",
    "        print(\"こんにちは{}。{}です。\".format(name, self.name))"
   ]
  },
  {
   "cell_type": "code",
   "execution_count": 76,
   "metadata": {},
   "outputs": [],
   "source": [
    "kikagaku = Person(\"キカガク\", \"日本\", 1)"
   ]
  },
  {
   "cell_type": "code",
   "execution_count": 77,
   "metadata": {},
   "outputs": [],
   "source": [
    "mike = Person(\"mike\",\"America\", 2)"
   ]
  },
  {
   "cell_type": "code",
   "execution_count": 78,
   "metadata": {},
   "outputs": [
    {
     "name": "stdout",
     "output_type": "stream",
     "text": [
      "こんにちはキカガク。mikeです。\n"
     ]
    }
   ],
   "source": [
    "mike.say_hello(\"キカガク\")"
   ]
  },
  {
   "cell_type": "code",
   "execution_count": 80,
   "metadata": {},
   "outputs": [
    {
     "name": "stdout",
     "output_type": "stream",
     "text": [
      "こんにちはキカガク。mikeです。\n"
     ]
    }
   ],
   "source": [
    "mike.__call__(\"キカガク\")"
   ]
  },
  {
   "cell_type": "code",
   "execution_count": 81,
   "metadata": {},
   "outputs": [
    {
     "name": "stdout",
     "output_type": "stream",
     "text": [
      "こんにちはキカガク。mikeです。\n"
     ]
    }
   ],
   "source": [
    "mike(\"キカガク\")"
   ]
  },
  {
   "cell_type": "code",
   "execution_count": null,
   "metadata": {},
   "outputs": [],
   "source": []
  }
 ],
 "metadata": {
  "kernelspec": {
   "display_name": "Python 3",
   "language": "python",
   "name": "python3"
  },
  "language_info": {
   "codemirror_mode": {
    "name": "ipython",
    "version": 3
   },
   "file_extension": ".py",
   "mimetype": "text/x-python",
   "name": "python",
   "nbconvert_exporter": "python",
   "pygments_lexer": "ipython3",
   "version": "3.7.0"
  }
 },
 "nbformat": 4,
 "nbformat_minor": 2
}
