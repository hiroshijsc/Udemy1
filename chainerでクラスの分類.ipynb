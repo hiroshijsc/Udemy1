{
 "cells": [
  {
   "cell_type": "markdown",
   "metadata": {},
   "source": [
    "# Chainerでクラスの分類"
   ]
  },
  {
   "cell_type": "markdown",
   "metadata": {},
   "source": [
    "### データの読み込み"
   ]
  },
  {
   "cell_type": "code",
   "execution_count": 109,
   "metadata": {},
   "outputs": [],
   "source": [
    "import numpy as np\n",
    "import pandas as pd"
   ]
  },
  {
   "cell_type": "code",
   "execution_count": 110,
   "metadata": {},
   "outputs": [
    {
     "data": {
      "text/html": [
       "<div>\n",
       "<style scoped>\n",
       "    .dataframe tbody tr th:only-of-type {\n",
       "        vertical-align: middle;\n",
       "    }\n",
       "\n",
       "    .dataframe tbody tr th {\n",
       "        vertical-align: top;\n",
       "    }\n",
       "\n",
       "    .dataframe thead th {\n",
       "        text-align: right;\n",
       "    }\n",
       "</style>\n",
       "<table border=\"1\" class=\"dataframe\">\n",
       "  <thead>\n",
       "    <tr style=\"text-align: right;\">\n",
       "      <th></th>\n",
       "      <th>Class</th>\n",
       "      <th>Alcohol</th>\n",
       "      <th>Ash</th>\n",
       "      <th>Alcalinity of ash</th>\n",
       "      <th>Magnesium</th>\n",
       "      <th>Total phenols</th>\n",
       "      <th>Flavanoids</th>\n",
       "      <th>Nonflavanoid phenols</th>\n",
       "      <th>Color intensity</th>\n",
       "      <th>Hue</th>\n",
       "      <th>Proline</th>\n",
       "    </tr>\n",
       "  </thead>\n",
       "  <tbody>\n",
       "    <tr>\n",
       "      <th>0</th>\n",
       "      <td>1</td>\n",
       "      <td>14.23</td>\n",
       "      <td>2.43</td>\n",
       "      <td>15.6</td>\n",
       "      <td>127</td>\n",
       "      <td>2.80</td>\n",
       "      <td>3.06</td>\n",
       "      <td>0.28</td>\n",
       "      <td>5.64</td>\n",
       "      <td>1.04</td>\n",
       "      <td>1065</td>\n",
       "    </tr>\n",
       "    <tr>\n",
       "      <th>1</th>\n",
       "      <td>1</td>\n",
       "      <td>13.20</td>\n",
       "      <td>2.14</td>\n",
       "      <td>11.2</td>\n",
       "      <td>100</td>\n",
       "      <td>2.65</td>\n",
       "      <td>2.76</td>\n",
       "      <td>0.26</td>\n",
       "      <td>4.38</td>\n",
       "      <td>1.05</td>\n",
       "      <td>1050</td>\n",
       "    </tr>\n",
       "    <tr>\n",
       "      <th>2</th>\n",
       "      <td>1</td>\n",
       "      <td>13.16</td>\n",
       "      <td>2.67</td>\n",
       "      <td>18.6</td>\n",
       "      <td>101</td>\n",
       "      <td>2.80</td>\n",
       "      <td>3.24</td>\n",
       "      <td>0.30</td>\n",
       "      <td>5.68</td>\n",
       "      <td>1.03</td>\n",
       "      <td>1185</td>\n",
       "    </tr>\n",
       "    <tr>\n",
       "      <th>3</th>\n",
       "      <td>1</td>\n",
       "      <td>14.37</td>\n",
       "      <td>2.50</td>\n",
       "      <td>16.8</td>\n",
       "      <td>113</td>\n",
       "      <td>3.85</td>\n",
       "      <td>3.49</td>\n",
       "      <td>0.24</td>\n",
       "      <td>7.80</td>\n",
       "      <td>0.86</td>\n",
       "      <td>1480</td>\n",
       "    </tr>\n",
       "    <tr>\n",
       "      <th>4</th>\n",
       "      <td>1</td>\n",
       "      <td>13.24</td>\n",
       "      <td>2.87</td>\n",
       "      <td>21.0</td>\n",
       "      <td>118</td>\n",
       "      <td>2.80</td>\n",
       "      <td>2.69</td>\n",
       "      <td>0.39</td>\n",
       "      <td>4.32</td>\n",
       "      <td>1.04</td>\n",
       "      <td>735</td>\n",
       "    </tr>\n",
       "  </tbody>\n",
       "</table>\n",
       "</div>"
      ],
      "text/plain": [
       "   Class  Alcohol   Ash  Alcalinity of ash  Magnesium  Total phenols  \\\n",
       "0      1    14.23  2.43               15.6        127           2.80   \n",
       "1      1    13.20  2.14               11.2        100           2.65   \n",
       "2      1    13.16  2.67               18.6        101           2.80   \n",
       "3      1    14.37  2.50               16.8        113           3.85   \n",
       "4      1    13.24  2.87               21.0        118           2.80   \n",
       "\n",
       "   Flavanoids  Nonflavanoid phenols  Color intensity   Hue  Proline  \n",
       "0        3.06                  0.28             5.64  1.04     1065  \n",
       "1        2.76                  0.26             4.38  1.05     1050  \n",
       "2        3.24                  0.30             5.68  1.03     1185  \n",
       "3        3.49                  0.24             7.80  0.86     1480  \n",
       "4        2.69                  0.39             4.32  1.04      735  "
      ]
     },
     "execution_count": 110,
     "metadata": {},
     "output_type": "execute_result"
    }
   ],
   "source": [
    "df = pd.read_csv(\"wine-class.csv\")\n",
    "df.head()"
   ]
  },
  {
   "cell_type": "markdown",
   "metadata": {},
   "source": [
    "## 入力変数と教師データ（出力変数）に切り分ける"
   ]
  },
  {
   "cell_type": "code",
   "execution_count": 111,
   "metadata": {},
   "outputs": [],
   "source": [
    "#df.iloc[行,列]\n",
    "t = df.iloc[:,0]"
   ]
  },
  {
   "cell_type": "code",
   "execution_count": 112,
   "metadata": {},
   "outputs": [],
   "source": [
    "x = df.iloc[:,1:]"
   ]
  },
  {
   "cell_type": "code",
   "execution_count": 113,
   "metadata": {},
   "outputs": [
    {
     "data": {
      "text/html": [
       "<div>\n",
       "<style scoped>\n",
       "    .dataframe tbody tr th:only-of-type {\n",
       "        vertical-align: middle;\n",
       "    }\n",
       "\n",
       "    .dataframe tbody tr th {\n",
       "        vertical-align: top;\n",
       "    }\n",
       "\n",
       "    .dataframe thead th {\n",
       "        text-align: right;\n",
       "    }\n",
       "</style>\n",
       "<table border=\"1\" class=\"dataframe\">\n",
       "  <thead>\n",
       "    <tr style=\"text-align: right;\">\n",
       "      <th></th>\n",
       "      <th>Alcohol</th>\n",
       "      <th>Ash</th>\n",
       "      <th>Alcalinity of ash</th>\n",
       "      <th>Magnesium</th>\n",
       "      <th>Total phenols</th>\n",
       "      <th>Flavanoids</th>\n",
       "      <th>Nonflavanoid phenols</th>\n",
       "      <th>Color intensity</th>\n",
       "      <th>Hue</th>\n",
       "      <th>Proline</th>\n",
       "    </tr>\n",
       "  </thead>\n",
       "  <tbody>\n",
       "    <tr>\n",
       "      <th>0</th>\n",
       "      <td>14.23</td>\n",
       "      <td>2.43</td>\n",
       "      <td>15.6</td>\n",
       "      <td>127</td>\n",
       "      <td>2.80</td>\n",
       "      <td>3.06</td>\n",
       "      <td>0.28</td>\n",
       "      <td>5.64</td>\n",
       "      <td>1.04</td>\n",
       "      <td>1065</td>\n",
       "    </tr>\n",
       "    <tr>\n",
       "      <th>1</th>\n",
       "      <td>13.20</td>\n",
       "      <td>2.14</td>\n",
       "      <td>11.2</td>\n",
       "      <td>100</td>\n",
       "      <td>2.65</td>\n",
       "      <td>2.76</td>\n",
       "      <td>0.26</td>\n",
       "      <td>4.38</td>\n",
       "      <td>1.05</td>\n",
       "      <td>1050</td>\n",
       "    </tr>\n",
       "    <tr>\n",
       "      <th>2</th>\n",
       "      <td>13.16</td>\n",
       "      <td>2.67</td>\n",
       "      <td>18.6</td>\n",
       "      <td>101</td>\n",
       "      <td>2.80</td>\n",
       "      <td>3.24</td>\n",
       "      <td>0.30</td>\n",
       "      <td>5.68</td>\n",
       "      <td>1.03</td>\n",
       "      <td>1185</td>\n",
       "    </tr>\n",
       "    <tr>\n",
       "      <th>3</th>\n",
       "      <td>14.37</td>\n",
       "      <td>2.50</td>\n",
       "      <td>16.8</td>\n",
       "      <td>113</td>\n",
       "      <td>3.85</td>\n",
       "      <td>3.49</td>\n",
       "      <td>0.24</td>\n",
       "      <td>7.80</td>\n",
       "      <td>0.86</td>\n",
       "      <td>1480</td>\n",
       "    </tr>\n",
       "    <tr>\n",
       "      <th>4</th>\n",
       "      <td>13.24</td>\n",
       "      <td>2.87</td>\n",
       "      <td>21.0</td>\n",
       "      <td>118</td>\n",
       "      <td>2.80</td>\n",
       "      <td>2.69</td>\n",
       "      <td>0.39</td>\n",
       "      <td>4.32</td>\n",
       "      <td>1.04</td>\n",
       "      <td>735</td>\n",
       "    </tr>\n",
       "  </tbody>\n",
       "</table>\n",
       "</div>"
      ],
      "text/plain": [
       "   Alcohol   Ash  Alcalinity of ash  Magnesium  Total phenols  Flavanoids  \\\n",
       "0    14.23  2.43               15.6        127           2.80        3.06   \n",
       "1    13.20  2.14               11.2        100           2.65        2.76   \n",
       "2    13.16  2.67               18.6        101           2.80        3.24   \n",
       "3    14.37  2.50               16.8        113           3.85        3.49   \n",
       "4    13.24  2.87               21.0        118           2.80        2.69   \n",
       "\n",
       "   Nonflavanoid phenols  Color intensity   Hue  Proline  \n",
       "0                  0.28             5.64  1.04     1065  \n",
       "1                  0.26             4.38  1.05     1050  \n",
       "2                  0.30             5.68  1.03     1185  \n",
       "3                  0.24             7.80  0.86     1480  \n",
       "4                  0.39             4.32  1.04      735  "
      ]
     },
     "execution_count": 113,
     "metadata": {},
     "output_type": "execute_result"
    }
   ],
   "source": [
    "x.head()"
   ]
  },
  {
   "cell_type": "code",
   "execution_count": 114,
   "metadata": {},
   "outputs": [
    {
     "data": {
      "text/plain": [
       "(178, 10)"
      ]
     },
     "execution_count": 114,
     "metadata": {},
     "output_type": "execute_result"
    }
   ],
   "source": [
    "x.shape"
   ]
  },
  {
   "cell_type": "code",
   "execution_count": 115,
   "metadata": {},
   "outputs": [
    {
     "data": {
      "text/plain": [
       "pandas.core.frame.DataFrame"
      ]
     },
     "execution_count": 115,
     "metadata": {},
     "output_type": "execute_result"
    }
   ],
   "source": [
    "type(x)"
   ]
  },
  {
   "cell_type": "code",
   "execution_count": 116,
   "metadata": {},
   "outputs": [
    {
     "data": {
      "text/plain": [
       "numpy.ndarray"
      ]
     },
     "execution_count": 116,
     "metadata": {},
     "output_type": "execute_result"
    }
   ],
   "source": [
    "#chainerが使えるnumpyの形式に変形する必要がある\n",
    "type(x.values)"
   ]
  },
  {
   "cell_type": "code",
   "execution_count": 117,
   "metadata": {},
   "outputs": [],
   "source": [
    "#tはchainerで扱う都合上、１、２、３ではなく０、１、２の形にする必要がある\n",
    "t = t.values - 1\n",
    "x = x.values"
   ]
  },
  {
   "cell_type": "code",
   "execution_count": 118,
   "metadata": {},
   "outputs": [
    {
     "data": {
      "text/plain": [
       "array([0, 0, 0, 0, 0, 0, 0, 0, 0, 0, 0, 0, 0, 0, 0, 0, 0, 0, 0, 0, 0, 0,\n",
       "       0, 0, 0, 0, 0, 0, 0, 0, 0, 0, 0, 0, 0, 0, 0, 0, 0, 0, 0, 0, 0, 0,\n",
       "       0, 0, 0, 0, 0, 0, 0, 0, 0, 0, 0, 0, 0, 0, 0, 1, 1, 1, 1, 1, 1, 1,\n",
       "       1, 1, 1, 1, 1, 1, 1, 1, 1, 1, 1, 1, 1, 1, 1, 1, 1, 1, 1, 1, 1, 1,\n",
       "       1, 1, 1, 1, 1, 1, 1, 1, 1, 1, 1, 1, 1, 1, 1, 1, 1, 1, 1, 1, 1, 1,\n",
       "       1, 1, 1, 1, 1, 1, 1, 1, 1, 1, 1, 1, 1, 1, 1, 1, 1, 1, 1, 1, 2, 2,\n",
       "       2, 2, 2, 2, 2, 2, 2, 2, 2, 2, 2, 2, 2, 2, 2, 2, 2, 2, 2, 2, 2, 2,\n",
       "       2, 2, 2, 2, 2, 2, 2, 2, 2, 2, 2, 2, 2, 2, 2, 2, 2, 2, 2, 2, 2, 2,\n",
       "       2, 2])"
      ]
     },
     "execution_count": 118,
     "metadata": {},
     "output_type": "execute_result"
    }
   ],
   "source": [
    "t"
   ]
  },
  {
   "cell_type": "code",
   "execution_count": 119,
   "metadata": {},
   "outputs": [
    {
     "data": {
      "text/plain": [
       "dtype('int64')"
      ]
     },
     "execution_count": 119,
     "metadata": {},
     "output_type": "execute_result"
    }
   ],
   "source": [
    "x.dtype\n",
    "t.dtype"
   ]
  },
  {
   "cell_type": "code",
   "execution_count": 120,
   "metadata": {},
   "outputs": [],
   "source": [
    "x = x.astype('f')\n",
    "t = t.astype('i')"
   ]
  },
  {
   "cell_type": "code",
   "execution_count": 121,
   "metadata": {},
   "outputs": [
    {
     "data": {
      "text/plain": [
       "dtype('float32')"
      ]
     },
     "execution_count": 121,
     "metadata": {},
     "output_type": "execute_result"
    }
   ],
   "source": [
    "x.dtype"
   ]
  },
  {
   "cell_type": "code",
   "execution_count": 122,
   "metadata": {},
   "outputs": [
    {
     "data": {
      "text/plain": [
       "dtype('int32')"
      ]
     },
     "execution_count": 122,
     "metadata": {},
     "output_type": "execute_result"
    }
   ],
   "source": [
    "t.dtype"
   ]
  },
  {
   "cell_type": "code",
   "execution_count": 647,
   "metadata": {},
   "outputs": [],
   "source": [
    "import chainer\n",
    "import chainer.functions as F\n",
    "import chainer.links as L"
   ]
  },
  {
   "cell_type": "code",
   "execution_count": 773,
   "metadata": {},
   "outputs": [],
   "source": [
    "class NN(chainer.Chain):\n",
    "    \n",
    "    #モデルの構造\n",
    "    #NoneとするとChainer側で入力変数の数を数えてくれる\n",
    "    #初期値として５、３を入れることが出来る\n",
    "    def __init__(self, n_mid_units1=5, n_out=3):\n",
    "        super().__init__()\n",
    "        with self.init_scope():\n",
    "            self.fc1 = L.Linear(None,n_mid_units1)\n",
    "            self.fc2 = L.Linear(None,n_out)\n",
    "            #Batch Normalization\n",
    "            self.bn = L.BatchNormalization(10)\n",
    "     \n",
    "    #順伝播\n",
    "    def __call__(self, x):\n",
    "        h = self.bn(x)#追記\n",
    "        h = self.fc1(h)\n",
    "        h = F.relu(h)#精度を見るためにsigmoid()も使ってみる\n",
    "        h = self.fc2(h)\n",
    "        return h"
   ]
  },
  {
   "cell_type": "code",
   "execution_count": 774,
   "metadata": {},
   "outputs": [],
   "source": [
    "np.random.seed(1)\n",
    "nn = NN()\n",
    "#modelの定義\n",
    "#model宣言時に乱数が発生するためシードを固定する\n",
    "model = L.Classifier(nn)"
   ]
  },
  {
   "cell_type": "markdown",
   "metadata": {},
   "source": [
    "## Chainerで使用するデータセットの形式"
   ]
  },
  {
   "cell_type": "code",
   "execution_count": 775,
   "metadata": {},
   "outputs": [],
   "source": [
    "dataset = list(zip(x, t))"
   ]
  },
  {
   "cell_type": "markdown",
   "metadata": {},
   "source": [
    "## 訓練データと検証データに分割"
   ]
  },
  {
   "cell_type": "code",
   "execution_count": 776,
   "metadata": {},
   "outputs": [],
   "source": [
    "import chainer"
   ]
  },
  {
   "cell_type": "code",
   "execution_count": 777,
   "metadata": {},
   "outputs": [
    {
     "data": {
      "text/plain": [
       "178"
      ]
     },
     "execution_count": 777,
     "metadata": {},
     "output_type": "execute_result"
    }
   ],
   "source": [
    "len(dataset)"
   ]
  },
  {
   "cell_type": "code",
   "execution_count": 778,
   "metadata": {},
   "outputs": [],
   "source": [
    "#学習データを全体の７割として分ける\n",
    "n_train = int(len(dataset) * 0.7)\n",
    "train, test = chainer.datasets.split_dataset_random(dataset, n_train, seed = 1)"
   ]
  },
  {
   "cell_type": "markdown",
   "metadata": {},
   "source": [
    "### Optimizerの設定"
   ]
  },
  {
   "cell_type": "code",
   "execution_count": 779,
   "metadata": {},
   "outputs": [],
   "source": [
    "#Optimizerとはパラメータの最適化のアルゴリズムを選択する\n",
    "optimizer = chainer.optimizers.SGD() #SGD=確率的勾配降下法#Adom()が一般的"
   ]
  },
  {
   "cell_type": "code",
   "execution_count": 780,
   "metadata": {},
   "outputs": [
    {
     "data": {
      "text/plain": [
       "<chainer.optimizers.sgd.SGD at 0xb173565f8>"
      ]
     },
     "execution_count": 780,
     "metadata": {},
     "output_type": "execute_result"
    }
   ],
   "source": [
    "#nn = NN()\n",
    "#model = L.Classifier(nn)\n",
    "#modelとの関わりを作る\n",
    "optimizer.setup(model)"
   ]
  },
  {
   "cell_type": "markdown",
   "metadata": {},
   "source": [
    "### Iteratorの設定"
   ]
  },
  {
   "cell_type": "code",
   "execution_count": 781,
   "metadata": {},
   "outputs": [],
   "source": [
    "batchsize = 10"
   ]
  },
  {
   "cell_type": "code",
   "execution_count": 782,
   "metadata": {},
   "outputs": [],
   "source": [
    "train_iter = chainer.iterators.SerialIterator(train, batchsize)\n",
    "test_iter = chainer.iterators.SerialIterator(test, batchsize, repeat = False, shuffle=False)"
   ]
  },
  {
   "cell_type": "markdown",
   "metadata": {},
   "source": [
    "### Updaterの設定\n",
    "-CPU: -1\n",
    "\n",
    "-GPU: 0"
   ]
  },
  {
   "cell_type": "code",
   "execution_count": 783,
   "metadata": {},
   "outputs": [],
   "source": [
    "#使用するデバイスの設定をする\n",
    "from chainer import training"
   ]
  },
  {
   "cell_type": "code",
   "execution_count": 784,
   "metadata": {},
   "outputs": [],
   "source": [
    "updater = training.StandardUpdater(train_iter, optimizer, device=-1)"
   ]
  },
  {
   "cell_type": "markdown",
   "metadata": {},
   "source": [
    "### TrainerとExtensionの設定"
   ]
  },
  {
   "cell_type": "code",
   "execution_count": 785,
   "metadata": {},
   "outputs": [],
   "source": [
    "from chainer.training import extensions"
   ]
  },
  {
   "cell_type": "code",
   "execution_count": 786,
   "metadata": {},
   "outputs": [],
   "source": [
    "#エポックの数\n",
    "epoch = 204"
   ]
  },
  {
   "cell_type": "code",
   "execution_count": 787,
   "metadata": {},
   "outputs": [],
   "source": [
    "#trainerの宣言\n",
    "#resultフォルダのwineフォルダを作成し、その中にログを作る\n",
    "trainer = training.Trainer(updater, (epoch,'epoch'), out = 'result/wine')\n",
    "\n",
    "#検証データで評価\n",
    "trainer.extend(extensions.Evaluator(test_iter, model, device=-1))\n",
    "\n",
    "trainer.extend(extensions.LogReport(trigger=(1, 'epoch')))\n",
    "\n",
    "#1エポックごとに（trigger）にtrainデータに対するloss,accuracyとtestデータに対するloss、accuracy経過時間を出力します\n",
    "trainer.extend(extensions.PrintReport(['epoch','main/accuracy','validation/main/accuracy',\n",
    "                'main/loss','validation/main/loss','elapsed_time']),trigger=(1,'epoch'))"
   ]
  },
  {
   "cell_type": "markdown",
   "metadata": {},
   "source": [
    "## 学習の実行"
   ]
  },
  {
   "cell_type": "code",
   "execution_count": 788,
   "metadata": {},
   "outputs": [
    {
     "name": "stdout",
     "output_type": "stream",
     "text": [
      "epoch       main/accuracy  validation/main/accuracy  main/loss   validation/main/loss  elapsed_time\n",
      "\u001b[J1           0.415385       0.358333                  1.11046     1.30603               0.0334043     \n",
      "\u001b[J2           0.475          0.441667                  1.02261     1.03827               0.0682714     \n",
      "\u001b[J3           0.584615       0.591667                  0.923437    0.928491              0.0991846     \n",
      "\u001b[J4           0.608333       0.625                     0.863558    0.870106              0.130425      \n",
      "\u001b[J5           0.641667       0.625                     0.792922    0.822193              0.160953      \n",
      "\u001b[J6           0.7            0.625                     0.750538    0.773367              0.192139      \n",
      "\u001b[J7           0.7            0.625                     0.684348    0.730491              0.222177      \n",
      "\u001b[J8           0.738462       0.625                     0.679364    0.701627              0.253465      \n",
      "\u001b[J9           0.758333       0.641667                  0.638621    0.674931              0.284037      \n",
      "\u001b[J10          0.758333       0.7                       0.615446    0.653362              0.314104      \n",
      "\u001b[J11          0.776923       0.733333                  0.572222    0.624982              0.346526      \n",
      "\u001b[J12          0.75           0.75                      0.607097    0.607436              0.378353      \n",
      "\u001b[J13          0.846154       0.75                      0.523911    0.599481              0.410115      \n",
      "\u001b[J14          0.85           0.808333                  0.488484    0.572354              0.439171      \n",
      "\u001b[J15          0.816667       0.808333                  0.513408    0.550393              0.469859      \n",
      "\u001b[J16          0.830769       0.808333                  0.500965    0.533118              0.502215      \n",
      "\u001b[J17          0.875          0.808333                  0.47789     0.525284              0.535095      \n",
      "\u001b[J18          0.830769       0.808333                  0.504086    0.518616              0.567717      \n",
      "\u001b[J19          0.883333       0.841667                  0.449281    0.491672              0.597683      \n",
      "\u001b[J20          0.875          0.841667                  0.424567    0.478424              0.627952      \n",
      "\u001b[J21          0.884615       0.9                       0.422921    0.465489              0.661695      \n",
      "\u001b[J22          0.875          0.858333                  0.453667    0.448152              0.691613      \n",
      "\u001b[J23          0.9            0.9                       0.428326    0.431823              0.720184      \n",
      "\u001b[J24          0.908333       0.9                       0.40871     0.424032              0.750862      \n",
      "\u001b[J25          0.883333       0.9                       0.430841    0.406606              0.778167      \n",
      "\u001b[J26          0.876923       0.916667                  0.386997    0.394012              0.808831      \n",
      "\u001b[J27          0.933333       0.9                       0.360826    0.378602              0.838736      \n",
      "\u001b[J28          0.892308       0.95                      0.382356    0.355139              0.871411      \n",
      "\u001b[J29          0.95           0.933333                  0.308721    0.347466              0.901653      \n",
      "\u001b[J30          0.958333       0.966667                  0.300327    0.337911              0.93586       \n",
      "\u001b[J31          0.892308       0.966667                  0.395269    0.311494              0.970207      \n",
      "\u001b[J32          0.925          0.966667                  0.320068    0.30619               1.00202       \n",
      "\u001b[J33          0.946154       0.95                      0.296106    0.296867              1.03461       \n",
      "\u001b[J34          0.975          0.95                      0.266258    0.290828              1.06721       \n",
      "\u001b[J35          0.95           0.95                      0.266582    0.276439              1.10058       \n",
      "\u001b[J36          0.961538       0.95                      0.210701    0.266854              1.13445       \n",
      "\u001b[J37          0.925          0.983333                  0.265659    0.256083              1.16604       \n",
      "\u001b[J38          0.907692       0.95                      0.295625    0.239076              1.19718       \n",
      "\u001b[J39          0.925          0.966667                  0.269725    0.240365              1.22946       \n",
      "\u001b[J40          0.9            0.983333                  0.337392    0.228604              1.25609       \n",
      "\u001b[J41          0.946154       0.983333                  0.22455     0.22465               1.2878        \n",
      "\u001b[J42          0.925          0.966667                  0.27209     0.218463              1.31775       \n",
      "\u001b[J43          0.923077       0.966667                  0.312509    0.209585              1.34688       \n",
      "\u001b[J44          0.933333       0.966667                  0.234991    0.203467              1.37653       \n",
      "\u001b[J45          0.958333       0.983333                  0.231896    0.195847              1.40563       \n",
      "\u001b[J46          0.938462       0.983333                  0.263133    0.191358              1.43769       \n",
      "\u001b[J47          0.991667       0.983333                  0.152472    0.188722              1.46708       \n",
      "\u001b[J48          0.961538       0.966667                  0.210073    0.185397              1.49746       \n",
      "\u001b[J49          0.966667       0.983333                  0.181955    0.174649              1.53003       \n",
      "\u001b[J50          0.966667       0.966667                  0.170771    0.173416              1.56194       \n",
      "\u001b[J51          0.953846       0.983333                  0.155437    0.165766              1.59633       \n",
      "\u001b[J52          0.958333       0.966667                  0.185654    0.168468              1.6294        \n",
      "\u001b[J53          0.938462       0.966667                  0.265579    0.16136               1.66511       \n",
      "\u001b[J54          0.975          0.966667                  0.155907    0.156657              1.7005        \n",
      "\u001b[J55          0.95           0.966667                  0.183096    0.156514              1.73388       \n",
      "\u001b[J56          0.976923       0.966667                  0.139576    0.153217              1.76797       \n",
      "\u001b[J57          0.941667       0.966667                  0.200349    0.147723              1.80276       \n",
      "\u001b[J58          0.953846       0.983333                  0.168794    0.142275              1.83733       \n",
      "\u001b[J59          0.958333       0.966667                  0.193222    0.145148              1.87048       \n",
      "\u001b[J60          0.933333       0.983333                  0.21173     0.141079              1.90415       \n",
      "\u001b[J61          0.976923       0.983333                  0.146363    0.136246              1.93901       \n",
      "\u001b[J62          0.958333       0.966667                  0.147889    0.138515              1.97066       \n",
      "\u001b[J63          0.961538       0.983333                  0.108025    0.132092              2.00597       \n",
      "\u001b[J64          0.975          0.966667                  0.116924    0.130467              2.03545       \n",
      "\u001b[J65          0.933333       0.966667                  0.181725    0.13233               2.06629       \n",
      "\u001b[J66          0.953846       0.966667                  0.169502    0.126362              2.09725       \n",
      "\u001b[J67          0.933333       0.983333                  0.174629    0.124901              2.12651       \n",
      "\u001b[J68          0.953846       0.966667                  0.141014    0.126251              2.15709       \n",
      "\u001b[J69          0.966667       0.966667                  0.130797    0.122464              2.18963       \n",
      "\u001b[J70          0.925          0.966667                  0.164836    0.120721              2.22507       \n",
      "\u001b[J71          0.953846       0.983333                  0.22229     0.119103              2.25927       \n",
      "\u001b[J72          0.975          0.983333                  0.108441    0.118476              2.29023       \n",
      "\u001b[J73          0.969231       0.983333                  0.103424    0.116095              2.32462       \n",
      "\u001b[J74          0.983333       0.966667                  0.0760346   0.118369              2.35663       \n",
      "\u001b[J75          0.975          0.983333                  0.141613    0.113282              2.38935       \n",
      "\u001b[J76          0.961538       0.966667                  0.13722     0.120247              2.42242       \n",
      "\u001b[J77          0.966667       0.983333                  0.110353    0.110076              2.45489       \n",
      "\u001b[J78          0.984615       0.966667                  0.0767768   0.119071              2.48872       \n"
     ]
    },
    {
     "name": "stdout",
     "output_type": "stream",
     "text": [
      "\u001b[J79          0.958333       0.983333                  0.125103    0.105203              2.51938       \n",
      "\u001b[J80          0.966667       0.983333                  0.128374    0.104404              2.55373       \n",
      "\u001b[J81          0.946154       0.966667                  0.159379    0.10792               2.58831       \n",
      "\u001b[J82          0.933333       0.983333                  0.176582    0.105064              2.62023       \n",
      "\u001b[J83          0.946154       0.966667                  0.176079    0.113073              2.65248       \n",
      "\u001b[J84          0.966667       0.966667                  0.125922    0.106961              2.68381       \n",
      "\u001b[J85          0.958333       0.983333                  0.124302    0.101804              2.71665       \n",
      "\u001b[J86          0.961538       0.983333                  0.099743    0.100577              2.74649       \n",
      "\u001b[J87          0.933333       0.983333                  0.201685    0.0993586             2.77635       \n",
      "\u001b[J88          0.976923       0.983333                  0.0806102   0.0983919             2.80861       \n",
      "\u001b[J89          0.925          0.983333                  0.219786    0.0973034             2.83836       \n",
      "\u001b[J90          0.941667       0.983333                  0.156223    0.100619              2.86729       \n",
      "\u001b[J91          0.969231       0.983333                  0.103547    0.103184              2.89979       \n",
      "\u001b[J92          0.925          0.983333                  0.22989     0.0969166             2.93018       \n",
      "\u001b[J93          0.961538       0.966667                  0.162258    0.101818              2.96288       \n",
      "\u001b[J94          0.983333       0.983333                  0.141089    0.0955283             2.99434       \n",
      "\u001b[J95          0.958333       0.983333                  0.110894    0.0951414             3.02711       \n",
      "\u001b[J96          0.953846       0.983333                  0.165046    0.0950788             3.06005       \n",
      "\u001b[J97          0.975          0.983333                  0.155861    0.0888018             3.0946        \n",
      "\u001b[J98          0.946154       0.983333                  0.14195     0.0940583             3.13795       \n",
      "\u001b[J99          0.958333       0.983333                  0.129983    0.0903284             3.17644       \n",
      "\u001b[J100         0.941667       0.983333                  0.151544    0.0896176             3.21701       \n",
      "\u001b[J101         0.961538       0.983333                  0.0961713   0.0870096             3.25602       \n",
      "\u001b[J102         0.975          0.983333                  0.0900542   0.0891429             3.2964        \n",
      "\u001b[J103         0.953846       0.983333                  0.100763    0.0905496             3.33495       \n",
      "\u001b[J104         0.95           0.983333                  0.127799    0.0858975             3.37016       \n",
      "\u001b[J105         0.983333       0.983333                  0.058592    0.0867748             3.40622       \n",
      "\u001b[J106         0.961538       0.983333                  0.0934782   0.0919077             3.44902       \n",
      "\u001b[J107         0.933333       0.983333                  0.192607    0.0849158             3.48542       \n",
      "\u001b[J108         0.969231       0.983333                  0.0938794   0.0924345             3.52357       \n",
      "\u001b[J109         0.975          0.983333                  0.0902687   0.0853657             3.56333       \n",
      "\u001b[J110         0.958333       0.983333                  0.132079    0.0830292             3.6009        \n",
      "\u001b[J111         0.946154       0.983333                  0.169792    0.0828927             3.63903       \n",
      "\u001b[J112         0.966667       0.983333                  0.12819     0.084081              3.67995       \n",
      "\u001b[J113         0.923077       0.983333                  0.224966    0.0821234             3.71972       \n",
      "\u001b[J114         0.941667       0.983333                  0.145889    0.0822981             3.75703       \n",
      "\u001b[J115         0.958333       0.983333                  0.0984934   0.0816496             3.79622       \n",
      "\u001b[J116         0.938462       0.983333                  0.149694    0.0813391             3.83601       \n",
      "\u001b[J117         0.966667       0.983333                  0.113047    0.0853174             3.87302       \n",
      "\u001b[J118         0.953846       0.983333                  0.15223     0.0821356             3.91556       \n",
      "\u001b[J119         0.983333       0.983333                  0.108607    0.0877376             3.9533        \n",
      "\u001b[J120         0.975          0.983333                  0.145724    0.0833972             3.99311       \n",
      "\u001b[J121         0.984615       0.983333                  0.0812778   0.0825315             4.0342        \n",
      "\u001b[J122         0.975          0.983333                  0.104755    0.0829215             4.06809       \n",
      "\u001b[J123         0.961538       0.983333                  0.107402    0.0818189             4.10188       \n",
      "\u001b[J124         0.958333       0.983333                  0.110557    0.0807415             4.13187       \n",
      "\u001b[J125         0.966667       0.983333                  0.0934703   0.0783794             4.16344       \n",
      "\u001b[J126         0.969231       0.983333                  0.0868369   0.0810738             4.19255       \n",
      "\u001b[J127         0.916667       0.983333                  0.178749    0.0823112             4.2214        \n",
      "\u001b[J128         0.953846       0.983333                  0.129766    0.0762213             4.25469       \n",
      "\u001b[J129         0.925          0.983333                  0.196313    0.078935              4.28531       \n",
      "\u001b[J130         0.958333       0.983333                  0.10286     0.0800913             4.31584       \n",
      "\u001b[J131         0.976923       0.983333                  0.0633592   0.0754615             4.34863       \n",
      "\u001b[J132         0.966667       0.983333                  0.10944     0.0753905             4.38          \n",
      "\u001b[J133         0.938462       0.983333                  0.142509    0.0800996             4.42232       \n",
      "\u001b[J134         0.966667       0.983333                  0.112709    0.0768687             4.45859       \n",
      "\u001b[J135         0.941667       0.983333                  0.152067    0.0758402             4.49988       \n",
      "\u001b[J136         0.961538       0.983333                  0.0951617   0.0732811             4.54112       \n",
      "\u001b[J137         0.966667       0.983333                  0.0786281   0.0745745             4.57814       \n",
      "\u001b[J138         0.984615       0.983333                  0.0694278   0.0751227             4.61758       \n",
      "\u001b[J139         0.966667       0.983333                  0.0941656   0.0728419             4.65543       \n",
      "\u001b[J140         0.983333       0.983333                  0.0676912   0.075409              4.69188       \n",
      "\u001b[J141         0.907692       0.983333                  0.214359    0.0724408             4.72769       \n",
      "\u001b[J142         0.925          0.983333                  0.125675    0.0700699             4.76408       \n",
      "\u001b[J143         0.969231       0.983333                  0.0747707   0.0733772             4.79945       \n",
      "\u001b[J144         0.975          0.983333                  0.0987433   0.0718018             4.83404       \n",
      "\u001b[J145         0.991667       0.983333                  0.0562809   0.0701254             4.87248       \n",
      "\u001b[J146         0.969231       0.983333                  0.104215    0.0719063             4.91221       \n",
      "\u001b[J147         0.958333       0.983333                  0.0908836   0.0767958             4.94605       \n",
      "\u001b[J148         0.976923       0.983333                  0.0732763   0.0745904             4.98035       \n",
      "\u001b[J149         0.975          0.983333                  0.0679875   0.0724256             5.01667       \n",
      "\u001b[J150         0.975          0.983333                  0.0685403   0.0748006             5.04884       \n",
      "\u001b[J151         0.976923       0.983333                  0.0790661   0.0728973             5.08438       \n",
      "\u001b[J152         0.991667       0.983333                  0.0515813   0.0706896             5.11776       \n",
      "\u001b[J153         0.946154       0.983333                  0.113326    0.0708557             5.15259       \n",
      "\u001b[J154         0.966667       0.983333                  0.0861503   0.0727873             5.1921        \n",
      "\u001b[J155         0.975          0.983333                  0.0599474   0.0697588             5.23197       \n",
      "\u001b[J156         0.930769       0.983333                  0.194589    0.0711188             5.27251       \n",
      "\u001b[J157         0.966667       0.983333                  0.0947921   0.0681                5.31526       \n"
     ]
    },
    {
     "name": "stdout",
     "output_type": "stream",
     "text": [
      "\u001b[J158         0.961538       0.983333                  0.115332    0.071761              5.3547        \n",
      "\u001b[J159         0.983333       0.983333                  0.0773343   0.0727144             5.39236       \n",
      "\u001b[J160         0.958333       0.983333                  0.123583    0.0685924             5.43387       \n",
      "\u001b[J161         0.969231       0.983333                  0.0931418   0.0647741             5.47043       \n",
      "\u001b[J162         0.966667       0.983333                  0.112064    0.0673435             5.50607       \n",
      "\u001b[J163         0.961538       0.983333                  0.101377    0.0685055             5.54126       \n",
      "\u001b[J164         0.983333       0.983333                  0.0574263   0.0655744             5.57678       \n",
      "\u001b[J165         0.95           0.983333                  0.129942    0.0658972             5.61307       \n",
      "\u001b[J166         0.953846       0.983333                  0.121838    0.0649481             5.65134       \n",
      "\u001b[J167         0.958333       0.983333                  0.102689    0.0688349             5.68692       \n",
      "\u001b[J168         0.984615       0.983333                  0.0600474   0.0673088             5.7241        \n",
      "\u001b[J169         0.925          0.983333                  0.195336    0.0656774             5.76153       \n",
      "\u001b[J170         0.991667       0.983333                  0.0544178   0.0686137             5.79733       \n",
      "\u001b[J171         0.992308       0.983333                  0.0426028   0.0691934             5.83493       \n",
      "\u001b[J172         0.991667       0.983333                  0.0805995   0.063977              5.87007       \n",
      "\u001b[J173         0.976923       0.983333                  0.0599206   0.0676186             5.90513       \n",
      "\u001b[J174         0.941667       0.983333                  0.179274    0.0625334             5.93723       \n",
      "\u001b[J175         0.95           0.983333                  0.131305    0.0626462             5.97475       \n",
      "\u001b[J176         0.953846       0.966667                  0.107058    0.0705863             6.01843       \n",
      "\u001b[J177         0.941667       0.983333                  0.16429     0.0619748             6.05595       \n",
      "\u001b[J178         0.946154       0.983333                  0.105602    0.0617164             6.10003       \n",
      "\u001b[J179         0.966667       0.983333                  0.0727755   0.0632283             6.13788       \n",
      "\u001b[J180         0.958333       0.983333                  0.0945638   0.062925              6.17652       \n",
      "\u001b[J181         0.938462       0.983333                  0.127562    0.0628852             6.21727       \n",
      "\u001b[J182         0.95           0.983333                  0.173228    0.0620089             6.25507       \n",
      "\u001b[J183         0.923077       0.983333                  0.170597    0.0630723             6.2953        \n",
      "\u001b[J184         0.958333       0.983333                  0.117314    0.0666543             6.32945       \n",
      "\u001b[J185         0.941667       0.983333                  0.141535    0.0699987             6.36418       \n",
      "\u001b[J186         0.976923       0.983333                  0.0856006   0.072831              6.40128       \n",
      "\u001b[J187         0.966667       0.983333                  0.0900725   0.063096              6.43553       \n",
      "\u001b[J188         0.969231       0.983333                  0.072902    0.0658113             6.47204       \n",
      "\u001b[J189         0.95           0.983333                  0.0999565   0.0632473             6.50718       \n",
      "\u001b[J190         0.983333       0.983333                  0.0553017   0.0601278             6.54184       \n",
      "\u001b[J191         0.961538       0.983333                  0.102638    0.064525              6.57992       \n",
      "\u001b[J192         0.975          0.983333                  0.118404    0.060879              6.61668       \n",
      "\u001b[J193         0.938462       0.983333                  0.0966225   0.0653107             6.65308       \n",
      "\u001b[J194         0.941667       0.983333                  0.126045    0.0642999             6.68952       \n",
      "\u001b[J195         0.975          0.983333                  0.0510949   0.0667284             6.7253        \n",
      "\u001b[J196         0.969231       0.983333                  0.0862497   0.0633691             6.76571       \n",
      "\u001b[J197         0.975          0.983333                  0.0730806   0.063413              6.80233       \n",
      "\u001b[J198         0.969231       0.983333                  0.0940156   0.0621132             6.8459        \n",
      "\u001b[J199         0.941667       0.983333                  0.115746    0.0581573             6.88673       \n",
      "\u001b[J200         0.95           0.983333                  0.145788    0.0568776             6.92829       \n",
      "\u001b[J201         0.946154       0.983333                  0.12058     0.058379              6.97053       \n",
      "\u001b[J202         0.958333       0.983333                  0.14856     0.0590645             7.01543       \n",
      "\u001b[J203         0.953846       0.983333                  0.0840507   0.0590118             7.05609       \n",
      "\u001b[J204         0.966667       0.983333                  0.0769204   0.0595416             7.09222       \n"
     ]
    }
   ],
   "source": [
    "trainer.run()"
   ]
  },
  {
   "cell_type": "markdown",
   "metadata": {},
   "source": [
    "### 結果の確認"
   ]
  },
  {
   "cell_type": "code",
   "execution_count": 789,
   "metadata": {},
   "outputs": [],
   "source": [
    "import json"
   ]
  },
  {
   "cell_type": "code",
   "execution_count": 790,
   "metadata": {},
   "outputs": [],
   "source": [
    "with open('result/wine/log') as f:\n",
    "    logs = json.load(f)"
   ]
  },
  {
   "cell_type": "code",
   "execution_count": 791,
   "metadata": {},
   "outputs": [],
   "source": [
    "results = pd.DataFrame(logs)"
   ]
  },
  {
   "cell_type": "code",
   "execution_count": 792,
   "metadata": {},
   "outputs": [
    {
     "data": {
      "text/html": [
       "<div>\n",
       "<style scoped>\n",
       "    .dataframe tbody tr th:only-of-type {\n",
       "        vertical-align: middle;\n",
       "    }\n",
       "\n",
       "    .dataframe tbody tr th {\n",
       "        vertical-align: top;\n",
       "    }\n",
       "\n",
       "    .dataframe thead th {\n",
       "        text-align: right;\n",
       "    }\n",
       "</style>\n",
       "<table border=\"1\" class=\"dataframe\">\n",
       "  <thead>\n",
       "    <tr style=\"text-align: right;\">\n",
       "      <th></th>\n",
       "      <th>elapsed_time</th>\n",
       "      <th>epoch</th>\n",
       "      <th>iteration</th>\n",
       "      <th>main/accuracy</th>\n",
       "      <th>main/loss</th>\n",
       "      <th>validation/main/accuracy</th>\n",
       "      <th>validation/main/loss</th>\n",
       "    </tr>\n",
       "  </thead>\n",
       "  <tbody>\n",
       "    <tr>\n",
       "      <th>0</th>\n",
       "      <td>0.033404</td>\n",
       "      <td>1</td>\n",
       "      <td>13</td>\n",
       "      <td>0.415385</td>\n",
       "      <td>1.110462</td>\n",
       "      <td>0.358333</td>\n",
       "      <td>1.306030</td>\n",
       "    </tr>\n",
       "    <tr>\n",
       "      <th>1</th>\n",
       "      <td>0.068271</td>\n",
       "      <td>2</td>\n",
       "      <td>25</td>\n",
       "      <td>0.475000</td>\n",
       "      <td>1.022615</td>\n",
       "      <td>0.441667</td>\n",
       "      <td>1.038274</td>\n",
       "    </tr>\n",
       "    <tr>\n",
       "      <th>2</th>\n",
       "      <td>0.099185</td>\n",
       "      <td>3</td>\n",
       "      <td>38</td>\n",
       "      <td>0.584615</td>\n",
       "      <td>0.923437</td>\n",
       "      <td>0.591667</td>\n",
       "      <td>0.928491</td>\n",
       "    </tr>\n",
       "    <tr>\n",
       "      <th>3</th>\n",
       "      <td>0.130425</td>\n",
       "      <td>4</td>\n",
       "      <td>50</td>\n",
       "      <td>0.608333</td>\n",
       "      <td>0.863558</td>\n",
       "      <td>0.625000</td>\n",
       "      <td>0.870106</td>\n",
       "    </tr>\n",
       "    <tr>\n",
       "      <th>4</th>\n",
       "      <td>0.160953</td>\n",
       "      <td>5</td>\n",
       "      <td>62</td>\n",
       "      <td>0.641667</td>\n",
       "      <td>0.792922</td>\n",
       "      <td>0.625000</td>\n",
       "      <td>0.822193</td>\n",
       "    </tr>\n",
       "  </tbody>\n",
       "</table>\n",
       "</div>"
      ],
      "text/plain": [
       "   elapsed_time  epoch  iteration  main/accuracy  main/loss  \\\n",
       "0      0.033404      1         13       0.415385   1.110462   \n",
       "1      0.068271      2         25       0.475000   1.022615   \n",
       "2      0.099185      3         38       0.584615   0.923437   \n",
       "3      0.130425      4         50       0.608333   0.863558   \n",
       "4      0.160953      5         62       0.641667   0.792922   \n",
       "\n",
       "   validation/main/accuracy  validation/main/loss  \n",
       "0                  0.358333              1.306030  \n",
       "1                  0.441667              1.038274  \n",
       "2                  0.591667              0.928491  \n",
       "3                  0.625000              0.870106  \n",
       "4                  0.625000              0.822193  "
      ]
     },
     "execution_count": 792,
     "metadata": {},
     "output_type": "execute_result"
    }
   ],
   "source": [
    "results.head()"
   ]
  },
  {
   "cell_type": "code",
   "execution_count": 793,
   "metadata": {},
   "outputs": [],
   "source": [
    "results_accuracy = results[['main/accuracy', 'validation/main/accuracy']]"
   ]
  },
  {
   "cell_type": "code",
   "execution_count": 794,
   "metadata": {},
   "outputs": [
    {
     "data": {
      "text/plain": [
       "<matplotlib.axes._subplots.AxesSubplot at 0xb174459b0>"
      ]
     },
     "execution_count": 794,
     "metadata": {},
     "output_type": "execute_result"
    },
    {
     "data": {
      "image/png": "[encoded data removed]",
      "text/plain": [
       "<Figure size 432x288 with 1 Axes>"
      ]
     },
     "metadata": {
      "needs_background": "light"
     },
     "output_type": "display_data"
    }
   ],
   "source": [
    "%matplotlib inline\n",
    "results_accuracy.plot()"
   ]
  },
  {
   "cell_type": "code",
   "execution_count": 795,
   "metadata": {},
   "outputs": [
    {
     "data": {
      "text/plain": [
       "<matplotlib.axes._subplots.AxesSubplot at 0xb16e8d0b8>"
      ]
     },
     "execution_count": 795,
     "metadata": {},
     "output_type": "execute_result"
    },
    {
     "data": {
      "image/png": "[encoded data removed]",
      "text/plain": [
       "<Figure size 432x288 with 1 Axes>"
      ]
     },
     "metadata": {
      "needs_background": "light"
     },
     "output_type": "display_data"
    }
   ],
   "source": [
    "results[['main/loss', 'validation/main/loss']].plot()"
   ]
  },
  {
   "cell_type": "code",
   "execution_count": 796,
   "metadata": {},
   "outputs": [
    {
     "data": {
      "text/plain": [
       "0.9833333293596903"
      ]
     },
     "execution_count": 796,
     "metadata": {},
     "output_type": "execute_result"
    }
   ],
   "source": [
    "results['validation/main/accuracy'].max()"
   ]
  },
  {
   "cell_type": "code",
   "execution_count": 798,
   "metadata": {},
   "outputs": [
    {
     "data": {
      "text/html": [
       "<div>\n",
       "<style scoped>\n",
       "    .dataframe tbody tr th:only-of-type {\n",
       "        vertical-align: middle;\n",
       "    }\n",
       "\n",
       "    .dataframe tbody tr th {\n",
       "        vertical-align: top;\n",
       "    }\n",
       "\n",
       "    .dataframe thead th {\n",
       "        text-align: right;\n",
       "    }\n",
       "</style>\n",
       "<table border=\"1\" class=\"dataframe\">\n",
       "  <thead>\n",
       "    <tr style=\"text-align: right;\">\n",
       "      <th></th>\n",
       "      <th>Alcohol</th>\n",
       "      <th>Ash</th>\n",
       "      <th>Alcalinity of ash</th>\n",
       "      <th>Magnesium</th>\n",
       "      <th>Total phenols</th>\n",
       "      <th>Flavanoids</th>\n",
       "      <th>Nonflavanoid phenols</th>\n",
       "      <th>Color intensity</th>\n",
       "      <th>Hue</th>\n",
       "      <th>Proline</th>\n",
       "    </tr>\n",
       "  </thead>\n",
       "  <tbody>\n",
       "    <tr>\n",
       "      <th>0</th>\n",
       "      <td>14.23</td>\n",
       "      <td>2.43</td>\n",
       "      <td>15.6</td>\n",
       "      <td>127</td>\n",
       "      <td>2.80</td>\n",
       "      <td>3.06</td>\n",
       "      <td>0.28</td>\n",
       "      <td>5.64</td>\n",
       "      <td>1.04</td>\n",
       "      <td>1065</td>\n",
       "    </tr>\n",
       "    <tr>\n",
       "      <th>1</th>\n",
       "      <td>13.20</td>\n",
       "      <td>2.14</td>\n",
       "      <td>11.2</td>\n",
       "      <td>100</td>\n",
       "      <td>2.65</td>\n",
       "      <td>2.76</td>\n",
       "      <td>0.26</td>\n",
       "      <td>4.38</td>\n",
       "      <td>1.05</td>\n",
       "      <td>1050</td>\n",
       "    </tr>\n",
       "    <tr>\n",
       "      <th>2</th>\n",
       "      <td>13.16</td>\n",
       "      <td>2.67</td>\n",
       "      <td>18.6</td>\n",
       "      <td>101</td>\n",
       "      <td>2.80</td>\n",
       "      <td>3.24</td>\n",
       "      <td>0.30</td>\n",
       "      <td>5.68</td>\n",
       "      <td>1.03</td>\n",
       "      <td>1185</td>\n",
       "    </tr>\n",
       "    <tr>\n",
       "      <th>3</th>\n",
       "      <td>14.37</td>\n",
       "      <td>2.50</td>\n",
       "      <td>16.8</td>\n",
       "      <td>113</td>\n",
       "      <td>3.85</td>\n",
       "      <td>3.49</td>\n",
       "      <td>0.24</td>\n",
       "      <td>7.80</td>\n",
       "      <td>0.86</td>\n",
       "      <td>1480</td>\n",
       "    </tr>\n",
       "    <tr>\n",
       "      <th>4</th>\n",
       "      <td>13.24</td>\n",
       "      <td>2.87</td>\n",
       "      <td>21.0</td>\n",
       "      <td>118</td>\n",
       "      <td>2.80</td>\n",
       "      <td>2.69</td>\n",
       "      <td>0.39</td>\n",
       "      <td>4.32</td>\n",
       "      <td>1.04</td>\n",
       "      <td>735</td>\n",
       "    </tr>\n",
       "  </tbody>\n",
       "</table>\n",
       "</div>"
      ],
      "text/plain": [
       "   Alcohol   Ash  Alcalinity of ash  Magnesium  Total phenols  Flavanoids  \\\n",
       "0    14.23  2.43               15.6        127           2.80        3.06   \n",
       "1    13.20  2.14               11.2        100           2.65        2.76   \n",
       "2    13.16  2.67               18.6        101           2.80        3.24   \n",
       "3    14.37  2.50               16.8        113           3.85        3.49   \n",
       "4    13.24  2.87               21.0        118           2.80        2.69   \n",
       "\n",
       "   Nonflavanoid phenols  Color intensity   Hue  Proline  \n",
       "0                  0.28             5.64  1.04     1065  \n",
       "1                  0.26             4.38  1.05     1050  \n",
       "2                  0.30             5.68  1.03     1185  \n",
       "3                  0.24             7.80  0.86     1480  \n",
       "4                  0.39             4.32  1.04      735  "
      ]
     },
     "execution_count": 798,
     "metadata": {},
     "output_type": "execute_result"
    }
   ],
   "source": [
    "df.iloc[:,1:].head()"
   ]
  },
  {
   "cell_type": "markdown",
   "metadata": {},
   "source": [
    "### 学習済みモデルの保存"
   ]
  },
  {
   "cell_type": "code",
   "execution_count": 799,
   "metadata": {},
   "outputs": [
    {
     "data": {
      "text/plain": [
       "<chainer.links.model.classifier.Classifier at 0xb174247b8>"
      ]
     },
     "execution_count": 799,
     "metadata": {},
     "output_type": "execute_result"
    }
   ],
   "source": [
    "model"
   ]
  },
  {
   "cell_type": "code",
   "execution_count": 801,
   "metadata": {},
   "outputs": [],
   "source": [
    "!mkdir models"
   ]
  },
  {
   "cell_type": "code",
   "execution_count": 803,
   "metadata": {},
   "outputs": [],
   "source": [
    "chainer.serializers.save_npz('models/wine.npz', model)"
   ]
  },
  {
   "cell_type": "markdown",
   "metadata": {},
   "source": [
    "### 学習済みモデルを使用した推論（予測値の計算）"
   ]
  },
  {
   "cell_type": "markdown",
   "metadata": {},
   "source": [
    "### 学習済みモデルのロード"
   ]
  },
  {
   "cell_type": "code",
   "execution_count": 804,
   "metadata": {},
   "outputs": [],
   "source": [
    "#モデルの構造を明示する必要がある\n",
    "model = L.Classifier(NN())"
   ]
  },
  {
   "cell_type": "code",
   "execution_count": 806,
   "metadata": {},
   "outputs": [],
   "source": [
    "chainer.serializers.load_npz('models/wine.npz', model)"
   ]
  },
  {
   "cell_type": "markdown",
   "metadata": {},
   "source": [
    "### 予測値の計算\n",
    "今回は一番最初のサンプルに対する予測値の計算を行う"
   ]
  },
  {
   "cell_type": "code",
   "execution_count": 809,
   "metadata": {},
   "outputs": [],
   "source": [
    "x_new = x[0]"
   ]
  },
  {
   "cell_type": "code",
   "execution_count": 810,
   "metadata": {},
   "outputs": [
    {
     "data": {
      "text/plain": [
       "(10,)"
      ]
     },
     "execution_count": 810,
     "metadata": {},
     "output_type": "execute_result"
    }
   ],
   "source": [
    "x_new.shape"
   ]
  },
  {
   "cell_type": "code",
   "execution_count": 811,
   "metadata": {},
   "outputs": [
    {
     "ename": "InvalidType",
     "evalue": "\nInvalid operation is performed in: BatchNormalization (Forward)\n\nExpect: in_types[1].ndim == 0\nActual: 1 != 0",
     "output_type": "error",
     "traceback": [
      "\u001b[0;31m---------------------------------------------------------------------------\u001b[0m",
      "\u001b[0;31mInvalidType\u001b[0m                               Traceback (most recent call last)",
      "\u001b[0;32m<ipython-input-811-265708b30212>\u001b[0m in \u001b[0;36m<module>\u001b[0;34m()\u001b[0m\n\u001b[1;32m      1\u001b[0m \u001b[0;31m#予測値の計算\u001b[0m\u001b[0;34m\u001b[0m\u001b[0;34m\u001b[0m\u001b[0m\n\u001b[0;32m----> 2\u001b[0;31m \u001b[0my\u001b[0m \u001b[0;34m=\u001b[0m \u001b[0mmodel\u001b[0m\u001b[0;34m.\u001b[0m\u001b[0mpredictor\u001b[0m\u001b[0;34m(\u001b[0m\u001b[0mx_new\u001b[0m\u001b[0;34m)\u001b[0m\u001b[0;34m\u001b[0m\u001b[0m\n\u001b[0m",
      "\u001b[0;32m<ipython-input-773-deaeadd0cd6c>\u001b[0m in \u001b[0;36m__call__\u001b[0;34m(self, x)\u001b[0m\n\u001b[1;32m     14\u001b[0m     \u001b[0;31m#順伝播\u001b[0m\u001b[0;34m\u001b[0m\u001b[0;34m\u001b[0m\u001b[0m\n\u001b[1;32m     15\u001b[0m     \u001b[0;32mdef\u001b[0m \u001b[0m__call__\u001b[0m\u001b[0;34m(\u001b[0m\u001b[0mself\u001b[0m\u001b[0;34m,\u001b[0m \u001b[0mx\u001b[0m\u001b[0;34m)\u001b[0m\u001b[0;34m:\u001b[0m\u001b[0;34m\u001b[0m\u001b[0m\n\u001b[0;32m---> 16\u001b[0;31m         \u001b[0mh\u001b[0m \u001b[0;34m=\u001b[0m \u001b[0mself\u001b[0m\u001b[0;34m.\u001b[0m\u001b[0mbn\u001b[0m\u001b[0;34m(\u001b[0m\u001b[0mx\u001b[0m\u001b[0;34m)\u001b[0m\u001b[0;31m#追記\u001b[0m\u001b[0;34m\u001b[0m\u001b[0m\n\u001b[0m\u001b[1;32m     17\u001b[0m         \u001b[0mh\u001b[0m \u001b[0;34m=\u001b[0m \u001b[0mself\u001b[0m\u001b[0;34m.\u001b[0m\u001b[0mfc1\u001b[0m\u001b[0;34m(\u001b[0m\u001b[0mh\u001b[0m\u001b[0;34m)\u001b[0m\u001b[0;34m\u001b[0m\u001b[0m\n\u001b[1;32m     18\u001b[0m         \u001b[0mh\u001b[0m \u001b[0;34m=\u001b[0m \u001b[0mF\u001b[0m\u001b[0;34m.\u001b[0m\u001b[0mrelu\u001b[0m\u001b[0;34m(\u001b[0m\u001b[0mh\u001b[0m\u001b[0;34m)\u001b[0m\u001b[0;31m#精度を見るためにsigmoid()も使ってみる\u001b[0m\u001b[0;34m\u001b[0m\u001b[0m\n",
      "\u001b[0;32m~/anaconda3/lib/python3.7/site-packages/chainer/link.py\u001b[0m in \u001b[0;36m__call__\u001b[0;34m(self, *args, **kwargs)\u001b[0m\n\u001b[1;32m    240\u001b[0m         \u001b[0;32mif\u001b[0m \u001b[0mforward\u001b[0m \u001b[0;32mis\u001b[0m \u001b[0;32mNone\u001b[0m\u001b[0;34m:\u001b[0m\u001b[0;34m\u001b[0m\u001b[0m\n\u001b[1;32m    241\u001b[0m             \u001b[0mforward\u001b[0m \u001b[0;34m=\u001b[0m \u001b[0mself\u001b[0m\u001b[0;34m.\u001b[0m\u001b[0mforward\u001b[0m\u001b[0;34m\u001b[0m\u001b[0m\n\u001b[0;32m--> 242\u001b[0;31m         \u001b[0mout\u001b[0m \u001b[0;34m=\u001b[0m \u001b[0mforward\u001b[0m\u001b[0;34m(\u001b[0m\u001b[0;34m*\u001b[0m\u001b[0margs\u001b[0m\u001b[0;34m,\u001b[0m \u001b[0;34m**\u001b[0m\u001b[0mkwargs\u001b[0m\u001b[0;34m)\u001b[0m\u001b[0;34m\u001b[0m\u001b[0m\n\u001b[0m\u001b[1;32m    243\u001b[0m \u001b[0;34m\u001b[0m\u001b[0m\n\u001b[1;32m    244\u001b[0m         \u001b[0;31m# Call forward_postprocess hook\u001b[0m\u001b[0;34m\u001b[0m\u001b[0;34m\u001b[0m\u001b[0m\n",
      "\u001b[0;32m~/anaconda3/lib/python3.7/site-packages/chainer/links/normalization/batch_normalization.py\u001b[0m in \u001b[0;36mforward\u001b[0;34m(self, x, **kwargs)\u001b[0m\n\u001b[1;32m    297\u001b[0m             ret = functions.batch_normalization(\n\u001b[1;32m    298\u001b[0m                 \u001b[0mx\u001b[0m\u001b[0;34m,\u001b[0m \u001b[0mgamma\u001b[0m\u001b[0;34m,\u001b[0m \u001b[0mbeta\u001b[0m\u001b[0;34m,\u001b[0m \u001b[0meps\u001b[0m\u001b[0;34m=\u001b[0m\u001b[0mself\u001b[0m\u001b[0;34m.\u001b[0m\u001b[0meps\u001b[0m\u001b[0;34m,\u001b[0m \u001b[0mrunning_mean\u001b[0m\u001b[0;34m=\u001b[0m\u001b[0mself\u001b[0m\u001b[0;34m.\u001b[0m\u001b[0mavg_mean\u001b[0m\u001b[0;34m,\u001b[0m\u001b[0;34m\u001b[0m\u001b[0m\n\u001b[0;32m--> 299\u001b[0;31m                 running_var=self.avg_var, decay=decay, axis=self.axis)\n\u001b[0m\u001b[1;32m    300\u001b[0m         \u001b[0;32melse\u001b[0m\u001b[0;34m:\u001b[0m\u001b[0;34m\u001b[0m\u001b[0m\n\u001b[1;32m    301\u001b[0m             \u001b[0;31m# Use running average statistics or fine-tuned statistics.\u001b[0m\u001b[0;34m\u001b[0m\u001b[0;34m\u001b[0m\u001b[0m\n",
      "\u001b[0;32m~/anaconda3/lib/python3.7/site-packages/chainer/functions/normalization/batch_normalization.py\u001b[0m in \u001b[0;36mbatch_normalization\u001b[0;34m(x, gamma, beta, **kwargs)\u001b[0m\n\u001b[1;32m    830\u001b[0m \u001b[0;34m\u001b[0m\u001b[0m\n\u001b[1;32m    831\u001b[0m     return BatchNormalization(eps, running_mean, running_var, decay,\n\u001b[0;32m--> 832\u001b[0;31m                               axis).apply((x, gamma, beta))[0]\n\u001b[0m\u001b[1;32m    833\u001b[0m \u001b[0;34m\u001b[0m\u001b[0m\n\u001b[1;32m    834\u001b[0m \u001b[0;34m\u001b[0m\u001b[0m\n",
      "\u001b[0;32m~/anaconda3/lib/python3.7/site-packages/chainer/function_node.py\u001b[0m in \u001b[0;36mapply\u001b[0;34m(self, inputs)\u001b[0m\n\u001b[1;32m    243\u001b[0m \u001b[0;34m\u001b[0m\u001b[0m\n\u001b[1;32m    244\u001b[0m         \u001b[0;32mif\u001b[0m \u001b[0mconfiguration\u001b[0m\u001b[0;34m.\u001b[0m\u001b[0mconfig\u001b[0m\u001b[0;34m.\u001b[0m\u001b[0mtype_check\u001b[0m\u001b[0;34m:\u001b[0m\u001b[0;34m\u001b[0m\u001b[0m\n\u001b[0;32m--> 245\u001b[0;31m             \u001b[0mself\u001b[0m\u001b[0;34m.\u001b[0m\u001b[0m_check_data_type_forward\u001b[0m\u001b[0;34m(\u001b[0m\u001b[0min_data\u001b[0m\u001b[0;34m)\u001b[0m\u001b[0;34m\u001b[0m\u001b[0m\n\u001b[0m\u001b[1;32m    246\u001b[0m \u001b[0;34m\u001b[0m\u001b[0m\n\u001b[1;32m    247\u001b[0m         \u001b[0mhooks\u001b[0m \u001b[0;34m=\u001b[0m \u001b[0mchainer\u001b[0m\u001b[0;34m.\u001b[0m\u001b[0mget_function_hooks\u001b[0m\u001b[0;34m(\u001b[0m\u001b[0;34m)\u001b[0m\u001b[0;34m\u001b[0m\u001b[0m\n",
      "\u001b[0;32m~/anaconda3/lib/python3.7/site-packages/chainer/function_node.py\u001b[0m in \u001b[0;36m_check_data_type_forward\u001b[0;34m(self, in_data)\u001b[0m\n\u001b[1;32m    328\u001b[0m         \u001b[0min_type\u001b[0m \u001b[0;34m=\u001b[0m \u001b[0mtype_check\u001b[0m\u001b[0;34m.\u001b[0m\u001b[0mget_types\u001b[0m\u001b[0;34m(\u001b[0m\u001b[0min_data\u001b[0m\u001b[0;34m,\u001b[0m \u001b[0;34m'in_types'\u001b[0m\u001b[0;34m,\u001b[0m \u001b[0;32mFalse\u001b[0m\u001b[0;34m)\u001b[0m\u001b[0;34m\u001b[0m\u001b[0m\n\u001b[1;32m    329\u001b[0m         \u001b[0;32mwith\u001b[0m \u001b[0mtype_check\u001b[0m\u001b[0;34m.\u001b[0m\u001b[0mget_function_check_context\u001b[0m\u001b[0;34m(\u001b[0m\u001b[0mself\u001b[0m\u001b[0;34m)\u001b[0m\u001b[0;34m:\u001b[0m\u001b[0;34m\u001b[0m\u001b[0m\n\u001b[0;32m--> 330\u001b[0;31m             \u001b[0mself\u001b[0m\u001b[0;34m.\u001b[0m\u001b[0mcheck_type_forward\u001b[0m\u001b[0;34m(\u001b[0m\u001b[0min_type\u001b[0m\u001b[0;34m)\u001b[0m\u001b[0;34m\u001b[0m\u001b[0m\n\u001b[0m\u001b[1;32m    331\u001b[0m \u001b[0;34m\u001b[0m\u001b[0m\n\u001b[1;32m    332\u001b[0m     \u001b[0;32mdef\u001b[0m \u001b[0mcheck_type_forward\u001b[0m\u001b[0;34m(\u001b[0m\u001b[0mself\u001b[0m\u001b[0;34m,\u001b[0m \u001b[0min_types\u001b[0m\u001b[0;34m)\u001b[0m\u001b[0;34m:\u001b[0m\u001b[0;34m\u001b[0m\u001b[0m\n",
      "\u001b[0;32m~/anaconda3/lib/python3.7/site-packages/chainer/functions/normalization/batch_normalization.py\u001b[0m in \u001b[0;36mcheck_type_forward\u001b[0;34m(self, in_types)\u001b[0m\n\u001b[1;32m     82\u001b[0m         \u001b[0m_key_axis\u001b[0m \u001b[0;34m=\u001b[0m \u001b[0m_compute_key_axis\u001b[0m\u001b[0;34m(\u001b[0m\u001b[0m_x_ndim\u001b[0m\u001b[0;34m,\u001b[0m \u001b[0m_gamma_ndim\u001b[0m\u001b[0;34m,\u001b[0m \u001b[0m_axis\u001b[0m\u001b[0;34m)\u001b[0m\u001b[0;34m\u001b[0m\u001b[0m\n\u001b[1;32m     83\u001b[0m         type_check.expect(\n\u001b[0;32m---> 84\u001b[0;31m             \u001b[0mgamma_type\u001b[0m\u001b[0;34m.\u001b[0m\u001b[0mndim\u001b[0m \u001b[0;34m==\u001b[0m \u001b[0mlen\u001b[0m\u001b[0;34m(\u001b[0m\u001b[0m_key_axis\u001b[0m\u001b[0;34m)\u001b[0m\u001b[0;34m,\u001b[0m\u001b[0;34m\u001b[0m\u001b[0m\n\u001b[0m\u001b[1;32m     85\u001b[0m         )\n\u001b[1;32m     86\u001b[0m         \u001b[0;32mfor\u001b[0m \u001b[0mi\u001b[0m \u001b[0;32min\u001b[0m \u001b[0mrange\u001b[0m\u001b[0;34m(\u001b[0m\u001b[0mlen\u001b[0m\u001b[0;34m(\u001b[0m\u001b[0m_key_axis\u001b[0m\u001b[0;34m)\u001b[0m\u001b[0;34m)\u001b[0m\u001b[0;34m:\u001b[0m\u001b[0;34m\u001b[0m\u001b[0m\n",
      "\u001b[0;32m~/anaconda3/lib/python3.7/site-packages/chainer/utils/type_check.py\u001b[0m in \u001b[0;36mexpect\u001b[0;34m(*bool_exprs)\u001b[0m\n\u001b[1;32m    544\u001b[0m         \u001b[0;32mfor\u001b[0m \u001b[0mexpr\u001b[0m \u001b[0;32min\u001b[0m \u001b[0mbool_exprs\u001b[0m\u001b[0;34m:\u001b[0m\u001b[0;34m\u001b[0m\u001b[0m\n\u001b[1;32m    545\u001b[0m             \u001b[0;32massert\u001b[0m \u001b[0misinstance\u001b[0m\u001b[0;34m(\u001b[0m\u001b[0mexpr\u001b[0m\u001b[0;34m,\u001b[0m \u001b[0mTestable\u001b[0m\u001b[0;34m)\u001b[0m\u001b[0;34m\u001b[0m\u001b[0m\n\u001b[0;32m--> 546\u001b[0;31m             \u001b[0mexpr\u001b[0m\u001b[0;34m.\u001b[0m\u001b[0mexpect\u001b[0m\u001b[0;34m(\u001b[0m\u001b[0;34m)\u001b[0m\u001b[0;34m\u001b[0m\u001b[0m\n\u001b[0m\u001b[1;32m    547\u001b[0m \u001b[0;34m\u001b[0m\u001b[0m\n\u001b[1;32m    548\u001b[0m \u001b[0;34m\u001b[0m\u001b[0m\n",
      "\u001b[0;32m~/anaconda3/lib/python3.7/site-packages/chainer/utils/type_check.py\u001b[0m in \u001b[0;36mexpect\u001b[0;34m(self)\u001b[0m\n\u001b[1;32m    481\u001b[0m             raise InvalidType(\n\u001b[1;32m    482\u001b[0m                 \u001b[0;34m'{0} {1} {2}'\u001b[0m\u001b[0;34m.\u001b[0m\u001b[0mformat\u001b[0m\u001b[0;34m(\u001b[0m\u001b[0mself\u001b[0m\u001b[0;34m.\u001b[0m\u001b[0mlhs\u001b[0m\u001b[0;34m,\u001b[0m \u001b[0mself\u001b[0m\u001b[0;34m.\u001b[0m\u001b[0mexp\u001b[0m\u001b[0;34m,\u001b[0m \u001b[0mself\u001b[0m\u001b[0;34m.\u001b[0m\u001b[0mrhs\u001b[0m\u001b[0;34m)\u001b[0m\u001b[0;34m,\u001b[0m\u001b[0;34m\u001b[0m\u001b[0m\n\u001b[0;32m--> 483\u001b[0;31m                 '{0} {1} {2}'.format(left, self.inv, right))\n\u001b[0m\u001b[1;32m    484\u001b[0m \u001b[0;34m\u001b[0m\u001b[0m\n\u001b[1;32m    485\u001b[0m \u001b[0;34m\u001b[0m\u001b[0m\n",
      "\u001b[0;31mInvalidType\u001b[0m: \nInvalid operation is performed in: BatchNormalization (Forward)\n\nExpect: in_types[1].ndim == 0\nActual: 1 != 0"
     ]
    }
   ],
   "source": [
    "#予測値の計算\n",
    "y = model.predictor(1, x_)"
   ]
  },
  {
   "cell_type": "markdown",
   "metadata": {},
   "source": [
    "`（バッチサイズ,入力変数の数）`という形式でないといけない"
   ]
  },
  {
   "cell_type": "code",
   "execution_count": 812,
   "metadata": {},
   "outputs": [],
   "source": [
    "x_new = x_new[np.newaxis]"
   ]
  },
  {
   "cell_type": "code",
   "execution_count": 814,
   "metadata": {},
   "outputs": [
    {
     "data": {
      "text/plain": [
       "(1, 10)"
      ]
     },
     "execution_count": 814,
     "metadata": {},
     "output_type": "execute_result"
    }
   ],
   "source": [
    "x_new.shape"
   ]
  },
  {
   "cell_type": "code",
   "execution_count": 816,
   "metadata": {},
   "outputs": [
    {
     "name": "stderr",
     "output_type": "stream",
     "text": [
      "/Users/misuhiroshi/anaconda3/lib/python3.7/site-packages/chainer/functions/normalization/batch_normalization.py:114: UserWarning: A batch with no more than one sample has been given to F.batch_normalization. F.batch_normalization will always output a zero tensor for such batches. This could be caused by incorrect configuration in your code (such as running evaluation while chainer.config.train=True), but could also happen in the last batch of training if non-repeating iterator is used.\n",
      "  UserWarning)\n"
     ]
    }
   ],
   "source": [
    "y = model.predictor(x_new)"
   ]
  },
  {
   "cell_type": "code",
   "execution_count": 817,
   "metadata": {},
   "outputs": [
    {
     "data": {
      "text/plain": [
       "variable([[ 0.10603426,  0.4671204 , -1.2716975 ]])"
      ]
     },
     "execution_count": 817,
     "metadata": {},
     "output_type": "execute_result"
    }
   ],
   "source": [
    "#足して１になっていないため、足して１の形にする必要がある\n",
    "y"
   ]
  },
  {
   "cell_type": "code",
   "execution_count": 819,
   "metadata": {},
   "outputs": [],
   "source": [
    "#softmax関数を用いて、足して１に形にする\n",
    "y = F.softmax(y)"
   ]
  },
  {
   "cell_type": "code",
   "execution_count": 820,
   "metadata": {},
   "outputs": [
    {
     "data": {
      "text/plain": [
       "variable([[0.37215716, 0.5340035 , 0.09383936]])"
      ]
     },
     "execution_count": 820,
     "metadata": {},
     "output_type": "execute_result"
    }
   ],
   "source": [
    "y"
   ]
  },
  {
   "cell_type": "code",
   "execution_count": 821,
   "metadata": {},
   "outputs": [
    {
     "data": {
      "text/plain": [
       "array([[0.37215716, 0.5340035 , 0.09383936]], dtype=float32)"
      ]
     },
     "execution_count": 821,
     "metadata": {},
     "output_type": "execute_result"
    }
   ],
   "source": [
    "y.array"
   ]
  },
  {
   "cell_type": "code",
   "execution_count": 823,
   "metadata": {},
   "outputs": [
    {
     "data": {
      "text/plain": [
       "1"
      ]
     },
     "execution_count": 823,
     "metadata": {},
     "output_type": "execute_result"
    }
   ],
   "source": [
    "np.argmax(y.array)#最大値のindex番号を取り出す"
   ]
  }
 ],
 "metadata": {
  "kernelspec": {
   "display_name": "Python 3",
   "language": "python",
   "name": "python3"
  },
  "language_info": {
   "codemirror_mode": {
    "name": "ipython",
    "version": 3
   },
   "file_extension": ".py",
   "mimetype": "text/x-python",
   "name": "python",
   "nbconvert_exporter": "python",
   "pygments_lexer": "ipython3",
   "version": "3.7.0"
  }
 },
 "nbformat": 4,
 "nbformat_minor": 2
}
