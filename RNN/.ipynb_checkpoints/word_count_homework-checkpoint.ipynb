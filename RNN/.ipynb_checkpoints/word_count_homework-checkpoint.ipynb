{
 "cells": [
  {
   "cell_type": "code",
   "execution_count": 1,
   "metadata": {},
   "outputs": [],
   "source": [
    "from janome.tokenizer import Tokenizer\n",
    "import zipfile\n",
    "import os.path, urllib.request as request"
   ]
  },
  {
   "cell_type": "code",
   "execution_count": 11,
   "metadata": {},
   "outputs": [],
   "source": [
    "url = 'https://www.aozora.gr.jp/cards/000081/files/45630_txt_23610.zip'"
   ]
  },
  {
   "cell_type": "code",
   "execution_count": 12,
   "metadata": {},
   "outputs": [],
   "source": [
    "localfile = '45630_txt_23610.zip'"
   ]
  },
  {
   "cell_type": "code",
   "execution_count": 13,
   "metadata": {},
   "outputs": [
    {
     "name": "stdout",
     "output_type": "stream",
     "text": [
      "ダウンロードします\n"
     ]
    }
   ],
   "source": [
    "if not os.path.exists(localfile):\n",
    "    print(\"ダウンロードします\")\n",
    "    request.urlretrieve(url, localfile)"
   ]
  },
  {
   "cell_type": "code",
   "execution_count": 14,
   "metadata": {},
   "outputs": [],
   "source": [
    "zipfile = zipfile.ZipFile(localfile, 'r')"
   ]
  },
  {
   "cell_type": "code",
   "execution_count": 16,
   "metadata": {},
   "outputs": [],
   "source": [
    "file = zipfile.open(\"amenimo_makezu.txt\", 'r')"
   ]
  },
  {
   "cell_type": "code",
   "execution_count": 17,
   "metadata": {},
   "outputs": [],
   "source": [
    "bindata = file.read()"
   ]
  },
  {
   "cell_type": "code",
   "execution_count": 18,
   "metadata": {},
   "outputs": [],
   "source": [
    "textdata = bindata.decode(\"shift_jis\")"
   ]
  },
  {
   "cell_type": "code",
   "execution_count": 19,
   "metadata": {},
   "outputs": [],
   "source": [
    "t = Tokenizer()"
   ]
  },
  {
   "cell_type": "code",
   "execution_count": 20,
   "metadata": {},
   "outputs": [],
   "source": [
    "worddic = {}"
   ]
  },
  {
   "cell_type": "code",
   "execution_count": 21,
   "metadata": {},
   "outputs": [],
   "source": [
    "lines = textdata.split(\"\\r\\n\")"
   ]
  },
  {
   "cell_type": "code",
   "execution_count": 22,
   "metadata": {},
   "outputs": [],
   "source": [
    "for line in lines:\n",
    "    malist = t.tokenize(line)\n",
    "    for w in malist:\n",
    "        word = w.surface\n",
    "        part = w.part_of_speech\n",
    "        if part.find(\"名詞\") < 0:\n",
    "            continue\n",
    "        if not word in worddic:\n",
    "            worddic[word] = 0\n",
    "        worddic[word] += 1"
   ]
  },
  {
   "cell_type": "code",
   "execution_count": 24,
   "metadata": {},
   "outputs": [
    {
     "name": "stdout",
     "output_type": "stream",
     "text": [
      "行(8)\n",
      "日(5)\n",
      "-(4)\n",
      "菩薩(4)\n",
      "年(4)\n",
      "月(4)\n",
      "ニモマケズ(3)\n",
      "宮澤(3)\n",
      "賢治(3)\n",
      "入力(3)\n",
      "人(3)\n",
      "4(3)\n",
      "ニ(3)\n",
      ".(3)\n",
      "雨(2)\n",
      "---------------------------------------------------------(2)\n",
      "底本(2)\n",
      "蔭(2)\n",
      "陰(2)\n",
      "しら(2)\n",
      "髟(2)\n",
      "へん(2)\n",
      "水準(2)\n",
      "2(2)\n",
      "86(2)\n",
      "78(2)\n",
      "ト(2)\n",
      "アレバ(2)\n",
      "上(2)\n",
      "新(2)\n",
      "校本(2)\n",
      "全集(2)\n",
      "巻(2)\n",
      "本文(2)\n",
      "筑摩書房(2)\n",
      "平成(2)\n",
      "7(2)\n",
      "30(2)\n",
      "初版(2)\n",
      "1(2)\n",
      "刷(2)\n",
      "発行(2)\n",
      "校正(2)\n",
      "作成(2)\n",
      "青空(2)\n",
      "文庫(2)\n",
      "ファイル(2)\n",
      "テキスト(1)\n",
      "中(1)\n",
      "記号(1)\n"
     ]
    }
   ],
   "source": [
    "keys = sorted(worddic.items(), key = lambda x: x[1], reverse = True)\n",
    "for word, cnt in keys[:50]:\n",
    "    print(\"{0}({1})\\n\".format(word, cnt), end = \"\")"
   ]
  },
  {
   "cell_type": "code",
   "execution_count": null,
   "metadata": {},
   "outputs": [],
   "source": []
  },
  {
   "cell_type": "code",
   "execution_count": null,
   "metadata": {},
   "outputs": [],
   "source": []
  },
  {
   "cell_type": "code",
   "execution_count": null,
   "metadata": {},
   "outputs": [],
   "source": []
  },
  {
   "cell_type": "code",
   "execution_count": null,
   "metadata": {},
   "outputs": [],
   "source": []
  },
  {
   "cell_type": "code",
   "execution_count": null,
   "metadata": {},
   "outputs": [],
   "source": []
  },
  {
   "cell_type": "code",
   "execution_count": null,
   "metadata": {},
   "outputs": [],
   "source": []
  },
  {
   "cell_type": "code",
   "execution_count": null,
   "metadata": {},
   "outputs": [],
   "source": []
  },
  {
   "cell_type": "code",
   "execution_count": null,
   "metadata": {},
   "outputs": [],
   "source": []
  },
  {
   "cell_type": "code",
   "execution_count": null,
   "metadata": {},
   "outputs": [],
   "source": []
  },
  {
   "cell_type": "code",
   "execution_count": null,
   "metadata": {},
   "outputs": [],
   "source": []
  },
  {
   "cell_type": "code",
   "execution_count": null,
   "metadata": {},
   "outputs": [],
   "source": []
  },
  {
   "cell_type": "code",
   "execution_count": null,
   "metadata": {},
   "outputs": [],
   "source": []
  },
  {
   "cell_type": "code",
   "execution_count": null,
   "metadata": {},
   "outputs": [],
   "source": []
  },
  {
   "cell_type": "code",
   "execution_count": null,
   "metadata": {},
   "outputs": [],
   "source": []
  },
  {
   "cell_type": "code",
   "execution_count": null,
   "metadata": {},
   "outputs": [],
   "source": []
  },
  {
   "cell_type": "code",
   "execution_count": null,
   "metadata": {},
   "outputs": [],
   "source": []
  }
 ],
 "metadata": {
  "kernelspec": {
   "display_name": "Python 3",
   "language": "python",
   "name": "python3"
  },
  "language_info": {
   "codemirror_mode": {
    "name": "ipython",
    "version": 3
   },
   "file_extension": ".py",
   "mimetype": "text/x-python",
   "name": "python",
   "nbconvert_exporter": "python",
   "pygments_lexer": "ipython3",
   "version": "3.7.1"
  }
 },
 "nbformat": 4,
 "nbformat_minor": 2
}
