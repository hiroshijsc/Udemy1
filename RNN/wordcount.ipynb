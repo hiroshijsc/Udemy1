{
 "cells": [
  {
   "cell_type": "code",
   "execution_count": 1,
   "metadata": {
    "collapsed": true
   },
   "outputs": [],
   "source": [
    "from janome.tokenizer import Tokenizer\n",
    "import zipfile\n",
    "import os.path, urllib.request as request"
   ]
  },
  {
   "cell_type": "code",
   "execution_count": 2,
   "metadata": {
    "collapsed": true
   },
   "outputs": [],
   "source": [
    "# データファイルをダウンロードする"
   ]
  },
  {
   "cell_type": "code",
   "execution_count": 3,
   "metadata": {
    "collapsed": true
   },
   "outputs": [],
   "source": [
    "url = \"http://www.aozora.gr.jp/cards/000081/files/462_ruby_716.zip\""
   ]
  },
  {
   "cell_type": "code",
   "execution_count": 5,
   "metadata": {
    "collapsed": true
   },
   "outputs": [],
   "source": [
    "localfile = \"462_ruby_716.zip\""
   ]
  },
  {
   "cell_type": "code",
   "execution_count": 6,
   "metadata": {},
   "outputs": [
    {
     "name": "stdout",
     "output_type": "stream",
     "text": [
      "ファイルをダウンロードします\n"
     ]
    }
   ],
   "source": [
    "if not os.path.exists(localfile):\n",
    "    print(\"ファイルをダウンロードします\")\n",
    "    request.urlretrieve(url,localfile)"
   ]
  },
  {
   "cell_type": "code",
   "execution_count": 7,
   "metadata": {
    "collapsed": true
   },
   "outputs": [],
   "source": [
    "zipfile = zipfile.ZipFile(localfile, 'r')"
   ]
  },
  {
   "cell_type": "code",
   "execution_count": 8,
   "metadata": {
    "collapsed": true
   },
   "outputs": [],
   "source": [
    "file = zipfile.open('kazeno_matasaburo.txt', 'r')"
   ]
  },
  {
   "cell_type": "code",
   "execution_count": 9,
   "metadata": {
    "collapsed": true
   },
   "outputs": [],
   "source": [
    "bindata = file.read()"
   ]
  },
  {
   "cell_type": "code",
   "execution_count": 10,
   "metadata": {
    "collapsed": true
   },
   "outputs": [],
   "source": [
    "textdata = bindata.decode('shift_jis')"
   ]
  },
  {
   "cell_type": "code",
   "execution_count": 11,
   "metadata": {
    "collapsed": true
   },
   "outputs": [],
   "source": [
    "t = Tokenizer()"
   ]
  },
  {
   "cell_type": "code",
   "execution_count": 12,
   "metadata": {
    "collapsed": true
   },
   "outputs": [],
   "source": [
    "worddic = {}"
   ]
  },
  {
   "cell_type": "code",
   "execution_count": 27,
   "metadata": {},
   "outputs": [],
   "source": [
    "lines = textdata.split(\"\\r\\n\")"
   ]
  },
  {
   "cell_type": "code",
   "execution_count": null,
   "metadata": {
    "collapsed": true
   },
   "outputs": [],
   "source": [
    "for line in lines:\n",
    "    malist = t.tokenize(line) #形態素のリスト\n",
    "    for w in malist: # リストの各要素を取り出してカウント\n",
    "        word = w.surface\n",
    "        part = w.part_of_speech\n",
    "        if part.find('名詞') < 0: continue\n",
    "        if not word in worddic:\n",
    "            worddic[word] = 0 #数を格納するカウンター用の変数を生成\n",
    "        worddic[word] += 1  # カウンターを増やす"
   ]
  },
  {
   "cell_type": "code",
   "execution_count": 35,
   "metadata": {
    "scrolled": true
   },
   "outputs": [
    {
     "name": "stdout",
     "output_type": "stream",
     "text": [
      "みんな(835)\n",
      "三郎(675)\n",
      "の(670)\n",
      "よう(570)\n",
      "一郎(455)\n",
      "嘉助(440)\n",
      "一(415)\n",
      "人(345)\n",
      "それ(310)\n",
      "先生(305)\n",
      "馬(280)\n",
      "年生(265)\n",
      "ほう(240)\n",
      "二(235)\n",
      "郎(235)\n",
      "三(220)\n",
      "風(195)\n",
      "中(195)\n",
      "助(195)\n",
      "前(185)\n",
      "耕(185)\n",
      "木(180)\n",
      "水(180)\n",
      "上(175)\n",
      "ん(165)\n",
      "草(160)\n",
      "何(160)\n",
      "顔(130)\n",
      "手(130)\n",
      "さん(125)\n",
      "ろ(125)\n",
      "ら(125)\n",
      "目(125)\n",
      "とき(125)\n",
      "向こう(120)\n",
      "そう(120)\n",
      "子(115)\n",
      "佐太郎(115)\n",
      "教室(110)\n",
      "うし(110)\n",
      "下(110)\n",
      "五(105)\n",
      "ところ(100)\n",
      "こと(100)\n",
      "おら(95)\n",
      "さ(95)\n",
      "そこ(95)\n",
      "栗(90)\n",
      "机(90)\n",
      "四(90)\n"
     ]
    }
   ],
   "source": [
    "keys = sorted(worddic.items(),key = lambda x:x[1], reverse=True)\n",
    "for word,cnt in keys[:50]:\n",
    "    print(\"{0}({1})\\n\".format(word,cnt), end=\"\")"
   ]
  },
  {
   "cell_type": "code",
   "execution_count": null,
   "metadata": {
    "collapsed": true
   },
   "outputs": [],
   "source": []
  }
 ],
 "metadata": {
  "kernelspec": {
   "display_name": "Python 3",
   "language": "python",
   "name": "python3"
  },
  "language_info": {
   "codemirror_mode": {
    "name": "ipython",
    "version": 3
   },
   "file_extension": ".py",
   "mimetype": "text/x-python",
   "name": "python",
   "nbconvert_exporter": "python",
   "pygments_lexer": "ipython3",
   "version": "3.6.2"
  }
 },
 "nbformat": 4,
 "nbformat_minor": 2
}
