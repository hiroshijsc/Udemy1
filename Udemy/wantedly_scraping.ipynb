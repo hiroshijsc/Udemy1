{
 "cells": [
  {
   "cell_type": "code",
   "execution_count": 1,
   "metadata": {},
   "outputs": [],
   "source": [
    "import requests\n",
    "from bs4 import BeautifulSoup"
   ]
  },
  {
   "cell_type": "code",
   "execution_count": 2,
   "metadata": {},
   "outputs": [],
   "source": [
    "import pandas as pd\n",
    "from pandas import Series, DataFrame"
   ]
  },
  {
   "cell_type": "code",
   "execution_count": 84,
   "metadata": {},
   "outputs": [],
   "source": [
    "def wantedly_company_research(search_word):\n",
    "    url = 'https://www.wantedly.com/search?q={}&t=companies'.format(search_word)\n",
    "    source = requests.get(url).content\n",
    "    soup = BeautifulSoup(source)\n",
    "    company_names_source = soup.find_all('h3',{'class':'title'})\n",
    "    company_list = []\n",
    "    for company_name_source in company_names_source:\n",
    "        company_name = company_name_source.get_text()\n",
    "        company_list.append(company_name.replace('募集中',''))\n",
    "        print(company_list)"
   ]
  },
  {
   "cell_type": "code",
   "execution_count": 89,
   "metadata": {},
   "outputs": [
    {
     "name": "stdout",
     "output_type": "stream",
     "text": [
      "['\\nテクノスデータサイエンス・エンジニアリング株式会社\\n']\n",
      "['\\nテクノスデータサイエンス・エンジニアリング株式会社\\n', '\\nDataMix Co., Ltd.']\n",
      "['\\nテクノスデータサイエンス・エンジニアリング株式会社\\n', '\\nDataMix Co., Ltd.', '\\n株式会社データフォーシーズ\\n']\n",
      "['\\nテクノスデータサイエンス・エンジニアリング株式会社\\n', '\\nDataMix Co., Ltd.', '\\n株式会社データフォーシーズ\\n', '\\n株式会社イノヴァストラクチャー\\n']\n",
      "['\\nテクノスデータサイエンス・エンジニアリング株式会社\\n', '\\nDataMix Co., Ltd.', '\\n株式会社データフォーシーズ\\n', '\\n株式会社イノヴァストラクチャー\\n', '\\n株式会社データック']\n",
      "['\\nテクノスデータサイエンス・エンジニアリング株式会社\\n', '\\nDataMix Co., Ltd.', '\\n株式会社データフォーシーズ\\n', '\\n株式会社イノヴァストラクチャー\\n', '\\n株式会社データック', '\\nナレッジワークス株式会社\\n']\n",
      "['\\nテクノスデータサイエンス・エンジニアリング株式会社\\n', '\\nDataMix Co., Ltd.', '\\n株式会社データフォーシーズ\\n', '\\n株式会社イノヴァストラクチャー\\n', '\\n株式会社データック', '\\nナレッジワークス株式会社\\n', '\\n株式会社ルーター']\n",
      "['\\nテクノスデータサイエンス・エンジニアリング株式会社\\n', '\\nDataMix Co., Ltd.', '\\n株式会社データフォーシーズ\\n', '\\n株式会社イノヴァストラクチャー\\n', '\\n株式会社データック', '\\nナレッジワークス株式会社\\n', '\\n株式会社ルーター', '\\nヤフー株式会社']\n",
      "['\\nテクノスデータサイエンス・エンジニアリング株式会社\\n', '\\nDataMix Co., Ltd.', '\\n株式会社データフォーシーズ\\n', '\\n株式会社イノヴァストラクチャー\\n', '\\n株式会社データック', '\\nナレッジワークス株式会社\\n', '\\n株式会社ルーター', '\\nヤフー株式会社', '\\n株式会社コレクシア\\n']\n",
      "['\\nテクノスデータサイエンス・エンジニアリング株式会社\\n', '\\nDataMix Co., Ltd.', '\\n株式会社データフォーシーズ\\n', '\\n株式会社イノヴァストラクチャー\\n', '\\n株式会社データック', '\\nナレッジワークス株式会社\\n', '\\n株式会社ルーター', '\\nヤフー株式会社', '\\n株式会社コレクシア\\n', '\\n株式会社SIMULA Labs']\n",
      "['\\nテクノスデータサイエンス・エンジニアリング株式会社\\n', '\\nDataMix Co., Ltd.', '\\n株式会社データフォーシーズ\\n', '\\n株式会社イノヴァストラクチャー\\n', '\\n株式会社データック', '\\nナレッジワークス株式会社\\n', '\\n株式会社ルーター', '\\nヤフー株式会社', '\\n株式会社コレクシア\\n', '\\n株式会社SIMULA Labs', '\\n株式会社SIGNATE']\n",
      "['\\nテクノスデータサイエンス・エンジニアリング株式会社\\n', '\\nDataMix Co., Ltd.', '\\n株式会社データフォーシーズ\\n', '\\n株式会社イノヴァストラクチャー\\n', '\\n株式会社データック', '\\nナレッジワークス株式会社\\n', '\\n株式会社ルーター', '\\nヤフー株式会社', '\\n株式会社コレクシア\\n', '\\n株式会社SIMULA Labs', '\\n株式会社SIGNATE', '\\n株式会社PENQE\\n']\n",
      "['\\nテクノスデータサイエンス・エンジニアリング株式会社\\n', '\\nDataMix Co., Ltd.', '\\n株式会社データフォーシーズ\\n', '\\n株式会社イノヴァストラクチャー\\n', '\\n株式会社データック', '\\nナレッジワークス株式会社\\n', '\\n株式会社ルーター', '\\nヤフー株式会社', '\\n株式会社コレクシア\\n', '\\n株式会社SIMULA Labs', '\\n株式会社SIGNATE', '\\n株式会社PENQE\\n', '\\n株式会社GRI\\n']\n",
      "['\\nテクノスデータサイエンス・エンジニアリング株式会社\\n', '\\nDataMix Co., Ltd.', '\\n株式会社データフォーシーズ\\n', '\\n株式会社イノヴァストラクチャー\\n', '\\n株式会社データック', '\\nナレッジワークス株式会社\\n', '\\n株式会社ルーター', '\\nヤフー株式会社', '\\n株式会社コレクシア\\n', '\\n株式会社SIMULA Labs', '\\n株式会社SIGNATE', '\\n株式会社PENQE\\n', '\\n株式会社GRI\\n', '\\n京セラコミュニケーションシステム株式会社']\n",
      "['\\nテクノスデータサイエンス・エンジニアリング株式会社\\n', '\\nDataMix Co., Ltd.', '\\n株式会社データフォーシーズ\\n', '\\n株式会社イノヴァストラクチャー\\n', '\\n株式会社データック', '\\nナレッジワークス株式会社\\n', '\\n株式会社ルーター', '\\nヤフー株式会社', '\\n株式会社コレクシア\\n', '\\n株式会社SIMULA Labs', '\\n株式会社SIGNATE', '\\n株式会社PENQE\\n', '\\n株式会社GRI\\n', '\\n京セラコミュニケーションシステム株式会社', '\\n株式会社データテクノロジーラボ']\n"
     ]
    }
   ],
   "source": [
    "wantedly_company_research('データサイエンス')"
   ]
  },
  {
   "cell_type": "code",
   "execution_count": 90,
   "metadata": {},
   "outputs": [],
   "source": [
    "company"
   ]
  },
  {
   "cell_type": "code",
   "execution_count": null,
   "metadata": {},
   "outputs": [],
   "source": []
  }
 ],
 "metadata": {
  "kernelspec": {
   "display_name": "Python 3",
   "language": "python",
   "name": "python3"
  },
  "language_info": {
   "codemirror_mode": {
    "name": "ipython",
    "version": 3
   },
   "file_extension": ".py",
   "mimetype": "text/x-python",
   "name": "python",
   "nbconvert_exporter": "python",
   "pygments_lexer": "ipython3",
   "version": "3.7.0"
  }
 },
 "nbformat": 4,
 "nbformat_minor": 2
}
