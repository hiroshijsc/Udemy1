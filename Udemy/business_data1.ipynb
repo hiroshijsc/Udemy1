{
 "cells": [
  {
   "cell_type": "code",
   "execution_count": 1,
   "metadata": {},
   "outputs": [],
   "source": [
    "import numpy as np\n",
    "import pandas as pd\n",
    "from pandas import DataFrame, Series"
   ]
  },
  {
   "cell_type": "code",
   "execution_count": 2,
   "metadata": {},
   "outputs": [],
   "source": [
    "x = [18,12,14,19,20,25,17,11,24,20,23,13,24,14,15]"
   ]
  },
  {
   "cell_type": "code",
   "execution_count": 3,
   "metadata": {},
   "outputs": [
    {
     "data": {
      "text/plain": [
       "[18, 12, 14, 19, 20, 25, 17, 11, 24, 20, 23, 13, 24, 14, 15]"
      ]
     },
     "execution_count": 3,
     "metadata": {},
     "output_type": "execute_result"
    }
   ],
   "source": [
    "x"
   ]
  },
  {
   "cell_type": "code",
   "execution_count": 4,
   "metadata": {},
   "outputs": [],
   "source": [
    "y  = [882,683,731,834,910,1082,675,633,1006,821,972,690,1028,665,762]"
   ]
  },
  {
   "cell_type": "code",
   "execution_count": 5,
   "metadata": {},
   "outputs": [
    {
     "data": {
      "text/plain": [
       "[882, 683, 731, 834, 910, 1082, 675, 633, 1006, 821, 972, 690, 1028, 665, 762]"
      ]
     },
     "execution_count": 5,
     "metadata": {},
     "output_type": "execute_result"
    }
   ],
   "source": [
    "y"
   ]
  },
  {
   "cell_type": "code",
   "execution_count": 6,
   "metadata": {},
   "outputs": [
    {
     "data": {
      "text/plain": [
       "15"
      ]
     },
     "execution_count": 6,
     "metadata": {},
     "output_type": "execute_result"
    }
   ],
   "source": [
    "len(x)"
   ]
  },
  {
   "cell_type": "code",
   "execution_count": 7,
   "metadata": {},
   "outputs": [
    {
     "data": {
      "text/plain": [
       "15"
      ]
     },
     "execution_count": 7,
     "metadata": {},
     "output_type": "execute_result"
    }
   ],
   "source": [
    "len(y)"
   ]
  },
  {
   "cell_type": "code",
   "execution_count": 8,
   "metadata": {},
   "outputs": [],
   "source": [
    "dframe = DataFrame([x,y], index = ['x','y'])"
   ]
  },
  {
   "cell_type": "code",
   "execution_count": 9,
   "metadata": {},
   "outputs": [
    {
     "data": {
      "text/html": [
       "<div>\n",
       "<style scoped>\n",
       "    .dataframe tbody tr th:only-of-type {\n",
       "        vertical-align: middle;\n",
       "    }\n",
       "\n",
       "    .dataframe tbody tr th {\n",
       "        vertical-align: top;\n",
       "    }\n",
       "\n",
       "    .dataframe thead th {\n",
       "        text-align: right;\n",
       "    }\n",
       "</style>\n",
       "<table border=\"1\" class=\"dataframe\">\n",
       "  <thead>\n",
       "    <tr style=\"text-align: right;\">\n",
       "      <th></th>\n",
       "      <th>0</th>\n",
       "      <th>1</th>\n",
       "      <th>2</th>\n",
       "      <th>3</th>\n",
       "      <th>4</th>\n",
       "      <th>5</th>\n",
       "      <th>6</th>\n",
       "      <th>7</th>\n",
       "      <th>8</th>\n",
       "      <th>9</th>\n",
       "      <th>10</th>\n",
       "      <th>11</th>\n",
       "      <th>12</th>\n",
       "      <th>13</th>\n",
       "      <th>14</th>\n",
       "    </tr>\n",
       "  </thead>\n",
       "  <tbody>\n",
       "    <tr>\n",
       "      <th>x</th>\n",
       "      <td>18</td>\n",
       "      <td>12</td>\n",
       "      <td>14</td>\n",
       "      <td>19</td>\n",
       "      <td>20</td>\n",
       "      <td>25</td>\n",
       "      <td>17</td>\n",
       "      <td>11</td>\n",
       "      <td>24</td>\n",
       "      <td>20</td>\n",
       "      <td>23</td>\n",
       "      <td>13</td>\n",
       "      <td>24</td>\n",
       "      <td>14</td>\n",
       "      <td>15</td>\n",
       "    </tr>\n",
       "    <tr>\n",
       "      <th>y</th>\n",
       "      <td>882</td>\n",
       "      <td>683</td>\n",
       "      <td>731</td>\n",
       "      <td>834</td>\n",
       "      <td>910</td>\n",
       "      <td>1082</td>\n",
       "      <td>675</td>\n",
       "      <td>633</td>\n",
       "      <td>1006</td>\n",
       "      <td>821</td>\n",
       "      <td>972</td>\n",
       "      <td>690</td>\n",
       "      <td>1028</td>\n",
       "      <td>665</td>\n",
       "      <td>762</td>\n",
       "    </tr>\n",
       "  </tbody>\n",
       "</table>\n",
       "</div>"
      ],
      "text/plain": [
       "    0    1    2    3    4     5    6    7     8    9    10   11    12   13  \\\n",
       "x   18   12   14   19   20    25   17   11    24   20   23   13    24   14   \n",
       "y  882  683  731  834  910  1082  675  633  1006  821  972  690  1028  665   \n",
       "\n",
       "    14  \n",
       "x   15  \n",
       "y  762  "
      ]
     },
     "execution_count": 9,
     "metadata": {},
     "output_type": "execute_result"
    }
   ],
   "source": [
    "dframe"
   ]
  },
  {
   "cell_type": "code",
   "execution_count": 10,
   "metadata": {},
   "outputs": [
    {
     "data": {
      "text/html": [
       "<div>\n",
       "<style scoped>\n",
       "    .dataframe tbody tr th:only-of-type {\n",
       "        vertical-align: middle;\n",
       "    }\n",
       "\n",
       "    .dataframe tbody tr th {\n",
       "        vertical-align: top;\n",
       "    }\n",
       "\n",
       "    .dataframe thead th {\n",
       "        text-align: right;\n",
       "    }\n",
       "</style>\n",
       "<table border=\"1\" class=\"dataframe\">\n",
       "  <thead>\n",
       "    <tr style=\"text-align: right;\">\n",
       "      <th></th>\n",
       "      <th>0</th>\n",
       "      <th>1</th>\n",
       "      <th>2</th>\n",
       "      <th>3</th>\n",
       "      <th>4</th>\n",
       "      <th>5</th>\n",
       "      <th>6</th>\n",
       "      <th>7</th>\n",
       "      <th>8</th>\n",
       "      <th>9</th>\n",
       "      <th>10</th>\n",
       "      <th>11</th>\n",
       "      <th>12</th>\n",
       "      <th>13</th>\n",
       "      <th>14</th>\n",
       "    </tr>\n",
       "  </thead>\n",
       "  <tbody>\n",
       "    <tr>\n",
       "      <th>count</th>\n",
       "      <td>2.000000</td>\n",
       "      <td>2.00000</td>\n",
       "      <td>2.000000</td>\n",
       "      <td>2.000000</td>\n",
       "      <td>2.000000</td>\n",
       "      <td>2.000000</td>\n",
       "      <td>2.000000</td>\n",
       "      <td>2.000000</td>\n",
       "      <td>2.000000</td>\n",
       "      <td>2.000000</td>\n",
       "      <td>2.000000</td>\n",
       "      <td>2.000000</td>\n",
       "      <td>2.000000</td>\n",
       "      <td>2.000000</td>\n",
       "      <td>2.000000</td>\n",
       "    </tr>\n",
       "    <tr>\n",
       "      <th>mean</th>\n",
       "      <td>450.000000</td>\n",
       "      <td>347.50000</td>\n",
       "      <td>372.500000</td>\n",
       "      <td>426.500000</td>\n",
       "      <td>465.000000</td>\n",
       "      <td>553.500000</td>\n",
       "      <td>346.000000</td>\n",
       "      <td>322.000000</td>\n",
       "      <td>515.000000</td>\n",
       "      <td>420.500000</td>\n",
       "      <td>497.500000</td>\n",
       "      <td>351.500000</td>\n",
       "      <td>526.000000</td>\n",
       "      <td>339.500000</td>\n",
       "      <td>388.500000</td>\n",
       "    </tr>\n",
       "    <tr>\n",
       "      <th>std</th>\n",
       "      <td>610.940259</td>\n",
       "      <td>474.46865</td>\n",
       "      <td>506.995562</td>\n",
       "      <td>576.292027</td>\n",
       "      <td>629.325035</td>\n",
       "      <td>747.411868</td>\n",
       "      <td>465.276262</td>\n",
       "      <td>439.820418</td>\n",
       "      <td>694.378859</td>\n",
       "      <td>566.392532</td>\n",
       "      <td>671.044335</td>\n",
       "      <td>478.711291</td>\n",
       "      <td>709.935208</td>\n",
       "      <td>460.326515</td>\n",
       "      <td>528.208766</td>\n",
       "    </tr>\n",
       "    <tr>\n",
       "      <th>min</th>\n",
       "      <td>18.000000</td>\n",
       "      <td>12.00000</td>\n",
       "      <td>14.000000</td>\n",
       "      <td>19.000000</td>\n",
       "      <td>20.000000</td>\n",
       "      <td>25.000000</td>\n",
       "      <td>17.000000</td>\n",
       "      <td>11.000000</td>\n",
       "      <td>24.000000</td>\n",
       "      <td>20.000000</td>\n",
       "      <td>23.000000</td>\n",
       "      <td>13.000000</td>\n",
       "      <td>24.000000</td>\n",
       "      <td>14.000000</td>\n",
       "      <td>15.000000</td>\n",
       "    </tr>\n",
       "    <tr>\n",
       "      <th>25%</th>\n",
       "      <td>234.000000</td>\n",
       "      <td>179.75000</td>\n",
       "      <td>193.250000</td>\n",
       "      <td>222.750000</td>\n",
       "      <td>242.500000</td>\n",
       "      <td>289.250000</td>\n",
       "      <td>181.500000</td>\n",
       "      <td>166.500000</td>\n",
       "      <td>269.500000</td>\n",
       "      <td>220.250000</td>\n",
       "      <td>260.250000</td>\n",
       "      <td>182.250000</td>\n",
       "      <td>275.000000</td>\n",
       "      <td>176.750000</td>\n",
       "      <td>201.750000</td>\n",
       "    </tr>\n",
       "    <tr>\n",
       "      <th>50%</th>\n",
       "      <td>450.000000</td>\n",
       "      <td>347.50000</td>\n",
       "      <td>372.500000</td>\n",
       "      <td>426.500000</td>\n",
       "      <td>465.000000</td>\n",
       "      <td>553.500000</td>\n",
       "      <td>346.000000</td>\n",
       "      <td>322.000000</td>\n",
       "      <td>515.000000</td>\n",
       "      <td>420.500000</td>\n",
       "      <td>497.500000</td>\n",
       "      <td>351.500000</td>\n",
       "      <td>526.000000</td>\n",
       "      <td>339.500000</td>\n",
       "      <td>388.500000</td>\n",
       "    </tr>\n",
       "    <tr>\n",
       "      <th>75%</th>\n",
       "      <td>666.000000</td>\n",
       "      <td>515.25000</td>\n",
       "      <td>551.750000</td>\n",
       "      <td>630.250000</td>\n",
       "      <td>687.500000</td>\n",
       "      <td>817.750000</td>\n",
       "      <td>510.500000</td>\n",
       "      <td>477.500000</td>\n",
       "      <td>760.500000</td>\n",
       "      <td>620.750000</td>\n",
       "      <td>734.750000</td>\n",
       "      <td>520.750000</td>\n",
       "      <td>777.000000</td>\n",
       "      <td>502.250000</td>\n",
       "      <td>575.250000</td>\n",
       "    </tr>\n",
       "    <tr>\n",
       "      <th>max</th>\n",
       "      <td>882.000000</td>\n",
       "      <td>683.00000</td>\n",
       "      <td>731.000000</td>\n",
       "      <td>834.000000</td>\n",
       "      <td>910.000000</td>\n",
       "      <td>1082.000000</td>\n",
       "      <td>675.000000</td>\n",
       "      <td>633.000000</td>\n",
       "      <td>1006.000000</td>\n",
       "      <td>821.000000</td>\n",
       "      <td>972.000000</td>\n",
       "      <td>690.000000</td>\n",
       "      <td>1028.000000</td>\n",
       "      <td>665.000000</td>\n",
       "      <td>762.000000</td>\n",
       "    </tr>\n",
       "  </tbody>\n",
       "</table>\n",
       "</div>"
      ],
      "text/plain": [
       "               0          1           2           3           4            5   \\\n",
       "count    2.000000    2.00000    2.000000    2.000000    2.000000     2.000000   \n",
       "mean   450.000000  347.50000  372.500000  426.500000  465.000000   553.500000   \n",
       "std    610.940259  474.46865  506.995562  576.292027  629.325035   747.411868   \n",
       "min     18.000000   12.00000   14.000000   19.000000   20.000000    25.000000   \n",
       "25%    234.000000  179.75000  193.250000  222.750000  242.500000   289.250000   \n",
       "50%    450.000000  347.50000  372.500000  426.500000  465.000000   553.500000   \n",
       "75%    666.000000  515.25000  551.750000  630.250000  687.500000   817.750000   \n",
       "max    882.000000  683.00000  731.000000  834.000000  910.000000  1082.000000   \n",
       "\n",
       "               6           7            8           9           10  \\\n",
       "count    2.000000    2.000000     2.000000    2.000000    2.000000   \n",
       "mean   346.000000  322.000000   515.000000  420.500000  497.500000   \n",
       "std    465.276262  439.820418   694.378859  566.392532  671.044335   \n",
       "min     17.000000   11.000000    24.000000   20.000000   23.000000   \n",
       "25%    181.500000  166.500000   269.500000  220.250000  260.250000   \n",
       "50%    346.000000  322.000000   515.000000  420.500000  497.500000   \n",
       "75%    510.500000  477.500000   760.500000  620.750000  734.750000   \n",
       "max    675.000000  633.000000  1006.000000  821.000000  972.000000   \n",
       "\n",
       "               11           12          13          14  \n",
       "count    2.000000     2.000000    2.000000    2.000000  \n",
       "mean   351.500000   526.000000  339.500000  388.500000  \n",
       "std    478.711291   709.935208  460.326515  528.208766  \n",
       "min     13.000000    24.000000   14.000000   15.000000  \n",
       "25%    182.250000   275.000000  176.750000  201.750000  \n",
       "50%    351.500000   526.000000  339.500000  388.500000  \n",
       "75%    520.750000   777.000000  502.250000  575.250000  \n",
       "max    690.000000  1028.000000  665.000000  762.000000  "
      ]
     },
     "execution_count": 10,
     "metadata": {},
     "output_type": "execute_result"
    }
   ],
   "source": [
    "dframe.describe()"
   ]
  },
  {
   "cell_type": "code",
   "execution_count": 11,
   "metadata": {},
   "outputs": [
    {
     "data": {
      "text/plain": [
       "17.933333333333334"
      ]
     },
     "execution_count": 11,
     "metadata": {},
     "output_type": "execute_result"
    }
   ],
   "source": [
    "np.mean(x)"
   ]
  },
  {
   "cell_type": "code",
   "execution_count": 12,
   "metadata": {},
   "outputs": [
    {
     "data": {
      "text/plain": [
       "824.9333333333333"
      ]
     },
     "execution_count": 12,
     "metadata": {},
     "output_type": "execute_result"
    }
   ],
   "source": [
    "np.mean(y)"
   ]
  },
  {
   "cell_type": "code",
   "execution_count": 13,
   "metadata": {},
   "outputs": [],
   "source": [
    "x_mean = np.mean(x)"
   ]
  },
  {
   "cell_type": "code",
   "execution_count": 14,
   "metadata": {},
   "outputs": [
    {
     "data": {
      "text/plain": [
       "17.933333333333334"
      ]
     },
     "execution_count": 14,
     "metadata": {},
     "output_type": "execute_result"
    }
   ],
   "source": [
    "x_mean"
   ]
  },
  {
   "cell_type": "code",
   "execution_count": 15,
   "metadata": {},
   "outputs": [],
   "source": [
    "y_mean = np.mean(y)"
   ]
  },
  {
   "cell_type": "code",
   "execution_count": 16,
   "metadata": {},
   "outputs": [
    {
     "data": {
      "text/plain": [
       "824.9333333333333"
      ]
     },
     "execution_count": 16,
     "metadata": {},
     "output_type": "execute_result"
    }
   ],
   "source": [
    "y_mean"
   ]
  },
  {
   "cell_type": "code",
   "execution_count": 17,
   "metadata": {},
   "outputs": [
    {
     "data": {
      "text/plain": [
       "array([[2.19238095e+01, 6.59638095e+02],\n",
       "       [6.59638095e+02, 2.20254952e+04]])"
      ]
     },
     "execution_count": 17,
     "metadata": {},
     "output_type": "execute_result"
    }
   ],
   "source": [
    "np.cov(x,y)"
   ]
  },
  {
   "cell_type": "code",
   "execution_count": 25,
   "metadata": {},
   "outputs": [],
   "source": [
    "data = np.array([x,y])"
   ]
  },
  {
   "cell_type": "code",
   "execution_count": 26,
   "metadata": {},
   "outputs": [
    {
     "data": {
      "text/plain": [
       "array([[  18,   12,   14,   19,   20,   25,   17,   11,   24,   20,   23,\n",
       "          13,   24,   14,   15],\n",
       "       [ 882,  683,  731,  834,  910, 1082,  675,  633, 1006,  821,  972,\n",
       "         690, 1028,  665,  762]])"
      ]
     },
     "execution_count": 26,
     "metadata": {},
     "output_type": "execute_result"
    }
   ],
   "source": [
    "data"
   ]
  },
  {
   "cell_type": "code",
   "execution_count": 27,
   "metadata": {},
   "outputs": [],
   "source": [
    "cov_array = np.cov(data)"
   ]
  },
  {
   "cell_type": "code",
   "execution_count": 30,
   "metadata": {},
   "outputs": [
    {
     "data": {
      "text/plain": [
       "array([[2.19238095e+01, 6.59638095e+02],\n",
       "       [6.59638095e+02, 2.20254952e+04]])"
      ]
     },
     "execution_count": 30,
     "metadata": {},
     "output_type": "execute_result"
    }
   ],
   "source": [
    "cov_array"
   ]
  },
  {
   "cell_type": "code",
   "execution_count": 64,
   "metadata": {},
   "outputs": [],
   "source": [
    "sx2 = cov_array[[0],[0]]"
   ]
  },
  {
   "cell_type": "code",
   "execution_count": 65,
   "metadata": {},
   "outputs": [
    {
     "data": {
      "text/plain": [
       "array([21.92380952])"
      ]
     },
     "execution_count": 65,
     "metadata": {},
     "output_type": "execute_result"
    }
   ],
   "source": [
    "sx2"
   ]
  },
  {
   "cell_type": "code",
   "execution_count": 81,
   "metadata": {},
   "outputs": [],
   "source": [
    "sy2 = cov_array[[1],[1]]"
   ]
  },
  {
   "cell_type": "code",
   "execution_count": 82,
   "metadata": {},
   "outputs": [],
   "source": [
    "sy = np.sqrt(sy2)"
   ]
  },
  {
   "cell_type": "code",
   "execution_count": 83,
   "metadata": {},
   "outputs": [
    {
     "data": {
      "text/plain": [
       "array([22025.4952381])"
      ]
     },
     "execution_count": 83,
     "metadata": {},
     "output_type": "execute_result"
    }
   ],
   "source": [
    "sy2"
   ]
  },
  {
   "cell_type": "code",
   "execution_count": 84,
   "metadata": {},
   "outputs": [
    {
     "data": {
      "text/plain": [
       "array([148.40988929])"
      ]
     },
     "execution_count": 84,
     "metadata": {},
     "output_type": "execute_result"
    }
   ],
   "source": [
    "sy"
   ]
  },
  {
   "cell_type": "code",
   "execution_count": 85,
   "metadata": {},
   "outputs": [],
   "source": [
    "sxy = cov_array[[0],[1]]"
   ]
  },
  {
   "cell_type": "code",
   "execution_count": 86,
   "metadata": {},
   "outputs": [
    {
     "data": {
      "text/plain": [
       "array([659.63809524])"
      ]
     },
     "execution_count": 86,
     "metadata": {},
     "output_type": "execute_result"
    }
   ],
   "source": [
    "sxy"
   ]
  },
  {
   "cell_type": "code",
   "execution_count": 87,
   "metadata": {},
   "outputs": [],
   "source": [
    "rxy = sxy / (sx * sy)"
   ]
  },
  {
   "cell_type": "code",
   "execution_count": 88,
   "metadata": {},
   "outputs": [
    {
     "data": {
      "text/plain": [
       "array([0.94925934])"
      ]
     },
     "execution_count": 88,
     "metadata": {},
     "output_type": "execute_result"
    }
   ],
   "source": [
    "rxy"
   ]
  },
  {
   "cell_type": "code",
   "execution_count": 96,
   "metadata": {},
   "outputs": [],
   "source": [
    "B1 = sxy / sx2"
   ]
  },
  {
   "cell_type": "code",
   "execution_count": 97,
   "metadata": {},
   "outputs": [
    {
     "data": {
      "text/plain": [
       "array([30.08774978])"
      ]
     },
     "execution_count": 97,
     "metadata": {},
     "output_type": "execute_result"
    }
   ],
   "source": [
    "B1"
   ]
  },
  {
   "cell_type": "code",
   "execution_count": 98,
   "metadata": {},
   "outputs": [],
   "source": [
    "B0 = np.mean(y) - B1 * np.mean(x)"
   ]
  },
  {
   "cell_type": "code",
   "execution_count": 99,
   "metadata": {},
   "outputs": [
    {
     "data": {
      "text/plain": [
       "array([285.35968723])"
      ]
     },
     "execution_count": 99,
     "metadata": {},
     "output_type": "execute_result"
    }
   ],
   "source": [
    "B0"
   ]
  },
  {
   "cell_type": "code",
   "execution_count": 100,
   "metadata": {},
   "outputs": [],
   "source": [
    "import matplotlib.pyplot as plt"
   ]
  },
  {
   "cell_type": "code",
   "execution_count": 101,
   "metadata": {},
   "outputs": [],
   "source": [
    "y1 = B0 + B1 * x"
   ]
  },
  {
   "cell_type": "code",
   "execution_count": 102,
   "metadata": {},
   "outputs": [
    {
     "data": {
      "text/plain": [
       "array([ 826.93918332,  646.41268462,  706.58818419,  857.0269331 ,\n",
       "        887.11468288, 1037.5534318 ,  796.85143354,  616.32493484,\n",
       "       1007.46568202,  887.11468288,  977.37793223,  676.5004344 ,\n",
       "       1007.46568202,  706.58818419,  736.67593397])"
      ]
     },
     "execution_count": 102,
     "metadata": {},
     "output_type": "execute_result"
    }
   ],
   "source": [
    "y1"
   ]
  },
  {
   "cell_type": "code",
   "execution_count": 103,
   "metadata": {},
   "outputs": [
    {
     "data": {
      "text/plain": [
       "[<matplotlib.lines.Line2D at 0x171d15f3320>]"
      ]
     },
     "execution_count": 103,
     "metadata": {},
     "output_type": "execute_result"
    },
    {
     "data": {
      "image/png": "[encoded data removed]",
      "text/plain": [
       "<Figure size 432x288 with 1 Axes>"
      ]
     },
     "metadata": {
      "needs_background": "light"
     },
     "output_type": "display_data"
    }
   ],
   "source": [
    "plt.plot(x,y1,\"r-\")"
   ]
  },
  {
   "cell_type": "code",
   "execution_count": 104,
   "metadata": {},
   "outputs": [],
   "source": [
    "plt.show()"
   ]
  },
  {
   "cell_type": "code",
   "execution_count": 105,
   "metadata": {},
   "outputs": [
    {
     "data": {
      "text/plain": [
       "array([285.35968723])"
      ]
     },
     "execution_count": 105,
     "metadata": {},
     "output_type": "execute_result"
    }
   ],
   "source": [
    "B0"
   ]
  },
  {
   "cell_type": "code",
   "execution_count": 106,
   "metadata": {},
   "outputs": [
    {
     "data": {
      "text/plain": [
       "array([30.08774978])"
      ]
     },
     "execution_count": 106,
     "metadata": {},
     "output_type": "execute_result"
    }
   ],
   "source": [
    "B1"
   ]
  },
  {
   "cell_type": "code",
   "execution_count": 1,
   "metadata": {},
   "outputs": [
    {
     "ename": "NameError",
     "evalue": "name 'plt' is not defined",
     "output_type": "error",
     "traceback": [
      "\u001b[0;31m---------------------------------------------------------------------------\u001b[0m",
      "\u001b[0;31mNameError\u001b[0m                                 Traceback (most recent call last)",
      "\u001b[0;32m<ipython-input-1-7b74f0baac1d>\u001b[0m in \u001b[0;36m<module>\u001b[0;34m()\u001b[0m\n\u001b[0;32m----> 1\u001b[0;31m \u001b[0mplt\u001b[0m\u001b[0;34m.\u001b[0m\u001b[0mplot\u001b[0m\u001b[0;34m(\u001b[0m\u001b[0mx\u001b[0m\u001b[0;34m,\u001b[0m \u001b[0my1\u001b[0m\u001b[0;34m)\u001b[0m\u001b[0;34m\u001b[0m\u001b[0m\n\u001b[0m\u001b[1;32m      2\u001b[0m \u001b[0mx\u001b[0m\u001b[0;34m.\u001b[0m\u001b[0mplot\u001b[0m\u001b[0;34m(\u001b[0m\u001b[0mkind\u001b[0m \u001b[0;34m=\u001b[0m \u001b[0;34m'scatter'\u001b[0m\u001b[0;34m)\u001b[0m\u001b[0;34m\u001b[0m\u001b[0m\n",
      "\u001b[0;31mNameError\u001b[0m: name 'plt' is not defined"
     ]
    }
   ],
   "source": [
    "plt.plot(x, y1)"
   ]
  },
  {
   "cell_type": "code",
   "execution_count": 108,
   "metadata": {},
   "outputs": [],
   "source": [
    "def squareSum(x):\n",
    "    result = 0\n",
    "    result = sum(np.square(x))\n",
    "    print(result)"
   ]
  },
  {
   "cell_type": "code",
   "execution_count": 109,
   "metadata": {},
   "outputs": [],
   "source": [
    "def twoDifSum(y, yi):\n",
    "    result = 0\n",
    "    result = sum(np.square(y-yi))\n",
    "    return result"
   ]
  },
  {
   "cell_type": "code",
   "execution_count": 110,
   "metadata": {},
   "outputs": [],
   "source": [
    "ST = twoDifSum(y, np.mean(y))"
   ]
  },
  {
   "cell_type": "code",
   "execution_count": 111,
   "metadata": {},
   "outputs": [
    {
     "data": {
      "text/plain": [
       "308356.93333333335"
      ]
     },
     "execution_count": 111,
     "metadata": {},
     "output_type": "execute_result"
    }
   ],
   "source": [
    "ST"
   ]
  },
  {
   "cell_type": "code",
   "execution_count": 112,
   "metadata": {},
   "outputs": [],
   "source": [
    "Se = twoDifSum(y, y1)"
   ]
  },
  {
   "cell_type": "code",
   "execution_count": 113,
   "metadata": {},
   "outputs": [
    {
     "data": {
      "text/plain": [
       "30498.56993918332"
      ]
     },
     "execution_count": 113,
     "metadata": {},
     "output_type": "execute_result"
    }
   ],
   "source": [
    "Se"
   ]
  },
  {
   "cell_type": "code",
   "execution_count": 114,
   "metadata": {},
   "outputs": [],
   "source": [
    "SR = twoDifSum(y1, np.mean(y))"
   ]
  },
  {
   "cell_type": "code",
   "execution_count": 115,
   "metadata": {},
   "outputs": [
    {
     "data": {
      "text/plain": [
       "277858.36339415016"
      ]
     },
     "execution_count": 115,
     "metadata": {},
     "output_type": "execute_result"
    }
   ],
   "source": [
    "SR"
   ]
  },
  {
   "cell_type": "code",
   "execution_count": 116,
   "metadata": {},
   "outputs": [
    {
     "data": {
      "text/plain": [
       "308356.93333333347"
      ]
     },
     "execution_count": 116,
     "metadata": {},
     "output_type": "execute_result"
    }
   ],
   "source": [
    "SR+Se"
   ]
  },
  {
   "cell_type": "code",
   "execution_count": 117,
   "metadata": {},
   "outputs": [
    {
     "data": {
      "text/plain": [
       "308356.93333333335"
      ]
     },
     "execution_count": 117,
     "metadata": {},
     "output_type": "execute_result"
    }
   ],
   "source": [
    "ST"
   ]
  },
  {
   "cell_type": "code",
   "execution_count": 118,
   "metadata": {},
   "outputs": [],
   "source": [
    "R2 = 1 - Se / ST"
   ]
  },
  {
   "cell_type": "code",
   "execution_count": 119,
   "metadata": {},
   "outputs": [
    {
     "data": {
      "text/plain": [
       "0.9010932894892478"
      ]
     },
     "execution_count": 119,
     "metadata": {},
     "output_type": "execute_result"
    }
   ],
   "source": [
    "R2"
   ]
  },
  {
   "cell_type": "code",
   "execution_count": 122,
   "metadata": {},
   "outputs": [],
   "source": [
    "rxy2 = rxy*rxy"
   ]
  },
  {
   "cell_type": "code",
   "execution_count": 123,
   "metadata": {},
   "outputs": [
    {
     "data": {
      "text/plain": [
       "array([0.90109329])"
      ]
     },
     "execution_count": 123,
     "metadata": {},
     "output_type": "execute_result"
    }
   ],
   "source": [
    "rxy2"
   ]
  },
  {
   "cell_type": "code",
   "execution_count": 124,
   "metadata": {},
   "outputs": [
    {
     "data": {
      "text/plain": [
       "0.9010932894892478"
      ]
     },
     "execution_count": 124,
     "metadata": {},
     "output_type": "execute_result"
    }
   ],
   "source": [
    "R2"
   ]
  },
  {
   "cell_type": "code",
   "execution_count": 157,
   "metadata": {},
   "outputs": [],
   "source": [
    "x_1i = [18,12,14,19,20,25,17,11,24,20,23,13,24,14,15]"
   ]
  },
  {
   "cell_type": "markdown",
   "metadata": {},
   "source": [
    "x_2i = [14,18,16,12,20,17,4,8,22,4,8,17,24,3,5]"
   ]
  },
  {
   "cell_type": "code",
   "execution_count": 160,
   "metadata": {},
   "outputs": [],
   "source": [
    "x_2i = [14,18,16,12,20,17,4,8,22,4,8,17,24,3,5]"
   ]
  },
  {
   "cell_type": "code",
   "execution_count": 161,
   "metadata": {},
   "outputs": [],
   "source": [
    "y_1i = np.array([882,683,731,834,910,1082,675,633,1006,821,972,690,1028,665,762])"
   ]
  },
  {
   "cell_type": "code",
   "execution_count": 203,
   "metadata": {},
   "outputs": [],
   "source": [
    "x_matrix = np.array([x_1i, x_2i])"
   ]
  },
  {
   "cell_type": "code",
   "execution_count": 230,
   "metadata": {},
   "outputs": [
    {
     "data": {
      "text/plain": [
       "array([[ 520,  468,  476,  510,  640,  688,  362,  310,  740,  416,  526,\n",
       "         472,  768,  294,  340],\n",
       "       [ 468,  468,  456,  444,  600,  606,  276,  276,  684,  312,  420,\n",
       "         462,  720,  222,  270],\n",
       "       [ 476,  456,  452,  458,  600,  622,  302,  282,  688,  344,  450,\n",
       "         454,  720,  244,  290],\n",
       "       [ 510,  444,  458,  505,  620,  679,  371,  305,  720,  428,  533,\n",
       "         451,  744,  302,  345],\n",
       "       [ 640,  600,  600,  620,  800,  840,  420,  380,  920,  480,  620,\n",
       "         600,  960,  340,  400],\n",
       "       [ 688,  606,  622,  679,  840,  914,  493,  411,  974,  568,  711,\n",
       "         614, 1008,  401,  460],\n",
       "       [ 362,  276,  302,  371,  420,  493,  305,  219,  496,  356,  423,\n",
       "         289,  504,  250,  275],\n",
       "       [ 310,  276,  282,  305,  380,  411,  219,  185,  440,  252,  317,\n",
       "         279,  456,  178,  205],\n",
       "       [ 740,  684,  688,  720,  920,  974,  496,  440, 1060,  568,  728,\n",
       "         686, 1104,  402,  470],\n",
       "       [ 416,  312,  344,  428,  480,  568,  356,  252,  568,  416,  492,\n",
       "         328,  576,  292,  320],\n",
       "       [ 526,  420,  450,  533,  620,  711,  423,  317,  728,  492,  593,\n",
       "         435,  744,  346,  385],\n",
       "       [ 472,  462,  454,  451,  600,  614,  289,  279,  686,  328,  435,\n",
       "         458,  720,  233,  280],\n",
       "       [ 768,  720,  720,  744,  960, 1008,  504,  456, 1104,  576,  744,\n",
       "         720, 1152,  408,  480],\n",
       "       [ 294,  222,  244,  302,  340,  401,  250,  178,  402,  292,  346,\n",
       "         233,  408,  205,  225],\n",
       "       [ 340,  270,  290,  345,  400,  460,  275,  205,  470,  320,  385,\n",
       "         280,  480,  225,  250]])"
      ]
     },
     "execution_count": 230,
     "metadata": {},
     "output_type": "execute_result"
    }
   ],
   "source": [
    "np.dot(x_matrix.T,x_matrix)"
   ]
  },
  {
   "cell_type": "code",
   "execution_count": null,
   "metadata": {},
   "outputs": [],
   "source": []
  }
 ],
 "metadata": {
  "kernelspec": {
   "display_name": "Python 3",
   "language": "python",
   "name": "python3"
  },
  "language_info": {
   "codemirror_mode": {
    "name": "ipython",
    "version": 3
   },
   "file_extension": ".py",
   "mimetype": "text/x-python",
   "name": "python",
   "nbconvert_exporter": "python",
   "pygments_lexer": "ipython3",
   "version": "3.7.0"
  }
 },
 "nbformat": 4,
 "nbformat_minor": 2
}
